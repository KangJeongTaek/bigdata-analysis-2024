{
 "cells": [
  {
   "cell_type": "markdown",
   "metadata": {},
   "source": [
    "## Matplot.lib 학습\n",
    "\n",
    "### Matplotlib\n",
    "\n",
    "파이썬의 시각화 라이브러리\n",
    "\n",
    "#### Matplitlib 설치\n",
    "```python\n",
    "!pip install matplotlib\n",
    "```"
   ]
  },
  {
   "cell_type": "code",
   "execution_count": 4,
   "metadata": {},
   "outputs": [
    {
     "name": "stdout",
     "output_type": "stream",
     "text": [
      "Requirement already satisfied: matplotlib in g:\\dev\\python312\\lib\\site-packages (3.8.3)\n",
      "Requirement already satisfied: contourpy>=1.0.1 in g:\\dev\\python312\\lib\\site-packages (from matplotlib) (1.2.0)\n",
      "Requirement already satisfied: cycler>=0.10 in g:\\dev\\python312\\lib\\site-packages (from matplotlib) (0.12.1)\n",
      "Requirement already satisfied: fonttools>=4.22.0 in g:\\dev\\python312\\lib\\site-packages (from matplotlib) (4.49.0)\n",
      "Requirement already satisfied: kiwisolver>=1.3.1 in g:\\dev\\python312\\lib\\site-packages (from matplotlib) (1.4.5)\n",
      "Requirement already satisfied: numpy<2,>=1.21 in g:\\dev\\python312\\lib\\site-packages (from matplotlib) (1.26.4)\n",
      "Requirement already satisfied: packaging>=20.0 in g:\\dev\\python312\\lib\\site-packages (from matplotlib) (23.2)\n",
      "Requirement already satisfied: pillow>=8 in g:\\dev\\python312\\lib\\site-packages (from matplotlib) (10.2.0)\n",
      "Requirement already satisfied: pyparsing>=2.3.1 in g:\\dev\\python312\\lib\\site-packages (from matplotlib) (3.1.2)\n",
      "Requirement already satisfied: python-dateutil>=2.7 in g:\\dev\\python312\\lib\\site-packages (from matplotlib) (2.8.2)\n",
      "Requirement already satisfied: six>=1.5 in g:\\dev\\python312\\lib\\site-packages (from python-dateutil>=2.7->matplotlib) (1.16.0)\n"
     ]
    }
   ],
   "source": [
    "!pip install matplotlib"
   ]
  },
  {
   "cell_type": "markdown",
   "metadata": {},
   "source": [
    "### Matplot.lib 사용\n",
    "```python\n",
    "import matplotlib.pyplot as plt"
   ]
  },
  {
   "cell_type": "code",
   "execution_count": 2,
   "metadata": {},
   "outputs": [],
   "source": [
    "import matplotlib.pyplot as plt\n",
    "import numpy as np"
   ]
  },
  {
   "cell_type": "code",
   "execution_count": null,
   "metadata": {},
   "outputs": [],
   "source": [
    "plt.plot([1,2,3,4,5])\n",
    "plt.show()"
   ]
  },
  {
   "cell_type": "code",
   "execution_count": null,
   "metadata": {},
   "outputs": [],
   "source": [
    "plt.plot(np.random.randn(50)) #np.random.randn(n) n 개의 정수를 랜덤하게 만들어줌\n",
    "plt.show()"
   ]
  },
  {
   "cell_type": "code",
   "execution_count": null,
   "metadata": {},
   "outputs": [],
   "source": [
    "## 다중차트, figure() 사용\n",
    "fig = plt.figure()\n",
    "plt1 = fig.add_subplot(2,2,1) # 1번 차트\n",
    "plt2 = fig.add_subplot(2,2,2) # 2번 차트\n",
    "plt3 = fig.add_subplot(2,2,3) # 3번 차트\n",
    "plt4 = fig.add_subplot(2,2,4) # 4번 차트\n",
    "\n",
    "plt1.plot(np.random.randn(50))\n",
    "plt2.hist(np.random.randn(100))\n",
    "plt3.scatter(np.arange(30),np.random.randn(30),marker='o',color='c',s=10)\n",
    "plt4.plot(np.random.randn(30),'#00BFFF') # 색상 'r','g','b' etc\n",
    "plt.show()"
   ]
  },
  {
   "cell_type": "code",
   "execution_count": null,
   "metadata": {},
   "outputs": [],
   "source": [
    "# 다중 차트 그리기\n",
    "fig,axes = plt.subplots(2,3,figsize=(15,6))\n",
    "\n",
    "axes[0][0].plot(np.random.randn(50))\n",
    "axes[0][1].hist(np.random.randn(100))\n",
    "axes[1][0].scatter(np.arange(30),np.random.randn(30),marker='o',color='c',s=10)\n",
    "axes[1][1].plot(np.random.randn(30),'#00BFFF')\n",
    "plt.show()"
   ]
  },
  {
   "cell_type": "markdown",
   "metadata": {},
   "source": [
    "#### 차트 스타일 지정 옵션\n",
    "- label\n",
    "- style\n",
    "- alpha(투명도) 0 ~ 1사이의 실수\n",
    "- rot\n",
    "- xticks\n",
    "- yticks\n",
    "- xlim\n",
    "- ylim\n",
    "- color (HEX값 가능)\n",
    "- marker 'o','>','<','|','_','s','h','H','D','d', etc...\n",
    "\n",
    "- bins(그루핑 개수) hist에서\n",
    "- linestyle(선 모양) plot에서 '-','--','-.',':'\n",
    "\n",
    "...etc\n",
    "\n"
   ]
  },
  {
   "cell_type": "code",
   "execution_count": null,
   "metadata": {},
   "outputs": [],
   "source": [
    "# 다중 차트 그리기\n",
    "fig,axes = plt.subplots(2,3,figsize=(15,6))\n",
    "\n",
    "axes[0][0].plot(np.random.randn(50),color='pink',alpha=1)\n",
    "axes[0][1].hist(np.random.randn(100),color='#00BFFF',bins=30)\n",
    "axes[0][2].plot(np.random.randn(50),color='DarkMagenta',alpha=1,linestyle=':',marker= '1',markersize=7)\n",
    "axes[1][0].scatter(np.arange(30),np.random.randn(30),marker='o',color='c',s=10)\n",
    "axes[1][1].plot(np.random.randn(30),'#00BFFF')\n",
    "axes[1][2].plot(np.random.randn(20),marker='|')\n",
    "plt.show()"
   ]
  },
  {
   "cell_type": "code",
   "execution_count": null,
   "metadata": {},
   "outputs": [],
   "source": [
    "# cumsum() cumulative sum(누적합)\n",
    "# legend() 범례 표시\n",
    "# 플롯에 데이터 여러 개 표시되면 파란색, 주황색,녹색 순\n",
    "plt.plot(np.random.rand(50).cumsum(),label='data1')\n",
    "plt.plot(np.random.rand(50).cumsum(),label='data2')\n",
    "plt.plot(np.random.rand(50).cumsum(),label='data3')\n",
    "# 위치 값 loc = 'best', 'upper right', 'upper left', 'lower left', 'lower right', 'right', 'center left', 'center right', 'lower center', 'upper center', 'center'\n",
    "plt.legend(loc = 'lower right',)\n",
    "plt.show()"
   ]
  },
  {
   "cell_type": "code",
   "execution_count": null,
   "metadata": {},
   "outputs": [],
   "source": [
    "## x,y축 설정\n",
    "plt.figure(figsize=(19,5))\n",
    "ax = plt.plot(np.random.randn(1000))\n",
    "plt.xticks([0,250,500,750,1000],labels=['min','25%','median','75%','max'])\n",
    "## y축도 동일하게 변경 가능\n",
    "\n",
    "plt.title('Statics') #matplotlib에서 한글은 지원 안 함\n",
    "plt.show()"
   ]
  },
  {
   "cell_type": "code",
   "execution_count": 285,
   "metadata": {},
   "outputs": [],
   "source": [
    "## Pandas DataFrame이나 Series를 바로 matplotlib과 연계해 바로 차트를 그릴 수 있다.\n",
    "import pandas as pd\n"
   ]
  },
  {
   "cell_type": "code",
   "execution_count": null,
   "metadata": {},
   "outputs": [],
   "source": [
    "df_all = pd.read_excel('./data/df_all.xlsx')\n",
    "df_all"
   ]
  },
  {
   "cell_type": "markdown",
   "metadata": {},
   "source": [
    "#### matplotlib 한글 표시 문제\n",
    "기본적으로 한글을 지원하지 않기에 font_manager 객체를 사용해서 한글을 쓸 수 있도록 변경해줘야 한다."
   ]
  },
  {
   "cell_type": "code",
   "execution_count": 292,
   "metadata": {},
   "outputs": [],
   "source": [
    "from matplotlib import rcParams,font_manager,rc"
   ]
  }
 ],
 "metadata": {
  "kernelspec": {
   "display_name": "Python 3",
   "language": "python",
   "name": "python3"
  },
  "language_info": {
   "codemirror_mode": {
    "name": "ipython",
    "version": 3
   },
   "file_extension": ".py",
   "mimetype": "text/x-python",
   "name": "python",
   "nbconvert_exporter": "python",
   "pygments_lexer": "ipython3",
   "version": "3.12.2"
  }
 },
 "nbformat": 4,
 "nbformat_minor": 2
}
