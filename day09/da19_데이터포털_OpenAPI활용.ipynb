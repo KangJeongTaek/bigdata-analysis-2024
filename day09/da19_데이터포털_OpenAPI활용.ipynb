{
 "cells": [
  {
   "cell_type": "markdown",
   "metadata": {},
   "source": [
    "## 빅데이터 실습\n",
    "\n",
    "### 데이터포털 OpenAPI 활용\n",
    "\n",
    "#### 데이터 수집\n",
    "\n",
    "##### OpenAPI\n",
    "- 환광관광공사_관광빅데이터 수집\n",
    "    - 기본URL : http://apis.data.go.kr/B551011/DataLabService/metcoRegnVisitrDDList (https 아님!)\n",
    "        - __https로 요청하면 에러 발생__\n",
    "    - 파라미터(?뒤) : \n",
    "\n",
    "        - serviceKey = 본인서비스키\n",
    "        - numOfRows = 한페이지 표시할 결과수(10)\n",
    "        - pageNo = 페이지번호(1)\n",
    "        - MobileOS = IOS,AND,WIN,ETC(기타)\n",
    "        - startYmd = 시작일자\n",
    "        - endYmd = 끝일자\n",
    "        - MobileApp = AppTest"
   ]
  },
  {
   "cell_type": "markdown",
   "metadata": {},
   "source": [
    "#### 추가모듈\n",
    "- XML을 딕셔너리로 한 번 바꿔주는 모듈\n",
    "- xmltodict\n",
    "```python\n",
    "!pip install xmltodict"
   ]
  },
  {
   "cell_type": "code",
   "execution_count": 3,
   "metadata": {},
   "outputs": [],
   "source": [
    "## 필요라이브러리 등록\n",
    "import requests\n",
    "from bs4 import BeautifulSoup\n",
    "import datetime\n",
    "import json\n",
    "import xmltodict\n",
    "import pandas as pd"
   ]
  },
  {
   "cell_type": "code",
   "execution_count": 4,
   "metadata": {},
   "outputs": [],
   "source": [
    "# 웹으로 OpenAPI 요청하기 위한 기본함수\n",
    "def getRequestUrl(url):\n",
    "    try:\n",
    "        res = requests.get(url)\n",
    "        if res.status_code  ==200: # 웹 URL 요청 결과 OK\n",
    "            html = res.text\n",
    "            dict = xmltodict.parse(html,encoding='utf-8')\n",
    "            return dict# 웹으로 전달 될 때에는 URL, utf-8로 인코딩, 돌려받을 때는 utf-8 디코딩\n",
    "    except Exception as e:\n",
    "        print(f'호출 예외 : {e} 시간 : {datetime.datetime.now()}')\n",
    "        return None"
   ]
  },
  {
   "cell_type": "code",
   "execution_count": 5,
   "metadata": {},
   "outputs": [],
   "source": [
    "# 파라미터를 변경하면서 OpenAPI을 요청할 URL을 만들어주는 함수\n",
    "# 만약 시작 일자와 종료 일자가 다르면 파라미터를 2개 받아야한다.\n",
    "def getTouristDataService(yyyymmdd):\n",
    "    service_url = \"http://apis.data.go.kr/B551011/DataLabService/metcoRegnVisitrDDList\"\n",
    "    parameters = r\"?serviceKey=l2SER5UdFnVMTCfW%2F75Op1w1xj0ZVJyWjxZCA4s2qcMkJIjXonsQeorj8k35mmylOV0ywqc75RoXXtagwXuUnQ%3D%3D\"\n",
    "    parameters += f\"&numOfRows=60\"\n",
    "    parameters += f\"&pageNo=1\"\n",
    "    parameters += f\"&MobileOS=ETC\"\n",
    "    parameters += f\"&MobileApp=AppTest\"\n",
    "    parameters += f\"&startYmd={yyyymmdd}\"\n",
    "    parameters += f\"&endYmd={yyyymmdd}\"\n",
    "    url = service_url + parameters\n",
    "    responseDecode = getRequestUrl(url)\n",
    "    if responseDecode == None:\n",
    "        return None\n",
    "    else:\n",
    "        try:\n",
    "            content = responseDecode['response']['body']['items']['item']\n",
    "        except:\n",
    "            return None\n",
    "        return content"
   ]
  },
  {
   "cell_type": "code",
   "execution_count": null,
   "metadata": {},
   "outputs": [],
   "source": [
    "getTouristDataService('20231202')"
   ]
  },
  {
   "cell_type": "code",
   "execution_count": 7,
   "metadata": {},
   "outputs": [],
   "source": [
    "## 추가 라이브럴 ㅣ등록\n",
    "from tqdm import tqdm\n",
    "import time"
   ]
  },
  {
   "cell_type": "code",
   "execution_count": 8,
   "metadata": {},
   "outputs": [
    {
     "name": "stderr",
     "output_type": "stream",
     "text": [
      "  0%|          | 0/31 [00:00<?, ?it/s]"
     ]
    },
    {
     "name": "stderr",
     "output_type": "stream",
     "text": [
      " 97%|█████████▋| 30/31 [02:49<00:06,  6.61s/it]"
     ]
    }
   ],
   "source": [
    "year = 2023\n",
    "month = 12\n",
    "touristDatas = []\n",
    "for day in tqdm(range(1,32)):\n",
    "    reqYmd = f'{year}{month}{day:02d}'\n",
    "    if getTouristDataService(reqYmd) == None:\n",
    "        resList = []\n",
    "    else:\n",
    "        resList = getTouristDataService(reqYmd)\n",
    "    \n",
    "    touristDatas = touristDatas + resList"
   ]
  },
  {
   "cell_type": "code",
   "execution_count": null,
   "metadata": {},
   "outputs": [
    {
     "ename": "NameError",
     "evalue": "name 'touristDatas' is not defined",
     "output_type": "error",
     "traceback": [
      "\u001b[1;31m---------------------------------------------------------------------------\u001b[0m",
      "\u001b[1;31mNameError\u001b[0m                                 Traceback (most recent call last)",
      "Cell \u001b[1;32mIn[1], line 1\u001b[0m\n\u001b[1;32m----> 1\u001b[0m \u001b[38;5;28mlen\u001b[39m(\u001b[43mtouristDatas\u001b[49m)\n",
      "\u001b[1;31mNameError\u001b[0m: name 'touristDatas' is not defined"
     ]
    }
   ],
   "source": [
    "len(touristDatas)"
   ]
  }
 ],
 "metadata": {
  "kernelspec": {
   "display_name": "Python 3",
   "language": "python",
   "name": "python3"
  },
  "language_info": {
   "codemirror_mode": {
    "name": "ipython",
    "version": 3
   },
   "file_extension": ".py",
   "mimetype": "text/x-python",
   "name": "python",
   "nbconvert_exporter": "python",
   "pygments_lexer": "ipython3",
   "version": "3.12.2"
  }
 },
 "nbformat": 4,
 "nbformat_minor": 2
}
