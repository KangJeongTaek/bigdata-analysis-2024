{
 "cells": [
  {
   "cell_type": "markdown",
   "metadata": {},
   "source": [
    "## 빅데이터 실습\n",
    "\n",
    "### 스타벅스매장 입지 분석\n",
    "\n",
    "#### 데이터 수집\n",
    "\n",
    "##### 웹사이트에서 제공 받은 엑셀파일 수정"
   ]
  },
  {
   "cell_type": "code",
   "execution_count": 1,
   "metadata": {},
   "outputs": [],
   "source": [
    "# 필수 라이브러리 사용등록\n",
    "import pandas as pd\n",
    "import numpy as np\n"
   ]
  },
  {
   "cell_type": "code",
   "execution_count": 2,
   "metadata": {},
   "outputs": [],
   "source": [
    "dfSeoulManicipality = pd.read_excel('./data/전국_시군구_위경도.xlsx')"
   ]
  },
  {
   "cell_type": "code",
   "execution_count": 11,
   "metadata": {},
   "outputs": [],
   "source": [
    "condition = dfSeoulManicipality['do'] == '서울'\n",
    "\n",
    "dfSeoulGeo = dfSeoulManicipality[condition]"
   ]
  },
  {
   "cell_type": "code",
   "execution_count": 13,
   "metadata": {},
   "outputs": [],
   "source": [
    "# dfSeoulGeo.reset_index(drop=True,inplace=True) 저장해서 불러올 것이라면 굳이 없어도 되는 작업"
   ]
  },
  {
   "cell_type": "code",
   "execution_count": 16,
   "metadata": {},
   "outputs": [
    {
     "name": "stdout",
     "output_type": "stream",
     "text": [
      "<class 'pandas.core.frame.DataFrame'>\n",
      "RangeIndex: 25 entries, 0 to 24\n",
      "Data columns (total 5 columns):\n",
      " #   Column     Non-Null Count  Dtype  \n",
      "---  ------     --------------  -----  \n",
      " 0   docity     25 non-null     object \n",
      " 1   do         25 non-null     object \n",
      " 2   city       25 non-null     object \n",
      " 3   longitude  25 non-null     float64\n",
      " 4   latitude   25 non-null     float64\n",
      "dtypes: float64(2), object(3)\n",
      "memory usage: 1.1+ KB\n"
     ]
    }
   ],
   "source": [
    "dfSeoulGeo.info()"
   ]
  },
  {
   "cell_type": "code",
   "execution_count": 17,
   "metadata": {},
   "outputs": [],
   "source": [
    "# 필요로 만든 데이터는 항상 저장해둘 것\n",
    "dfSeoulGeo.to_excel('./data/수정_서울_시군구_위경도.xlsx',index=False)"
   ]
  },
  {
   "cell_type": "code",
   "execution_count": 34,
   "metadata": {},
   "outputs": [
    {
     "name": "stderr",
     "output_type": "stream",
     "text": [
      "g:\\DEV\\Python312\\Lib\\site-packages\\openpyxl\\styles\\stylesheet.py:226: UserWarning: Workbook contains no default style, apply openpyxl's default\n",
      "  warn(\"Workbook contains no default style, apply openpyxl's default\")\n"
     ]
    },
    {
     "data": {
      "text/html": [
       "<div>\n",
       "<style scoped>\n",
       "    .dataframe tbody tr th:only-of-type {\n",
       "        vertical-align: middle;\n",
       "    }\n",
       "\n",
       "    .dataframe tbody tr th {\n",
       "        vertical-align: top;\n",
       "    }\n",
       "\n",
       "    .dataframe thead th {\n",
       "        text-align: right;\n",
       "    }\n",
       "</style>\n",
       "<table border=\"1\" class=\"dataframe\">\n",
       "  <thead>\n",
       "    <tr style=\"text-align: right;\">\n",
       "      <th></th>\n",
       "      <th>구별</th>\n",
       "      <th>세대소계</th>\n",
       "      <th>소계</th>\n",
       "      <th>남자</th>\n",
       "      <th>여자</th>\n",
       "      <th>한국인소계</th>\n",
       "      <th>남자</th>\n",
       "      <th>여자</th>\n",
       "      <th>등록외국인소계</th>\n",
       "      <th>남자</th>\n",
       "      <th>여자</th>\n",
       "      <th>세대당인구</th>\n",
       "      <th>65세 이상 고령자</th>\n",
       "    </tr>\n",
       "  </thead>\n",
       "  <tbody>\n",
       "    <tr>\n",
       "      <th>0</th>\n",
       "      <td>소계</td>\n",
       "      <td>4469417</td>\n",
       "      <td>9638799</td>\n",
       "      <td>4649446</td>\n",
       "      <td>4989353</td>\n",
       "      <td>9386034</td>\n",
       "      <td>4540031</td>\n",
       "      <td>4846003</td>\n",
       "      <td>252765</td>\n",
       "      <td>109415</td>\n",
       "      <td>143350</td>\n",
       "      <td>2.10</td>\n",
       "      <td>1743696</td>\n",
       "    </tr>\n",
       "    <tr>\n",
       "      <th>1</th>\n",
       "      <td>종로구</td>\n",
       "      <td>72067</td>\n",
       "      <td>150453</td>\n",
       "      <td>71890</td>\n",
       "      <td>78563</td>\n",
       "      <td>139417</td>\n",
       "      <td>67306</td>\n",
       "      <td>72111</td>\n",
       "      <td>11036</td>\n",
       "      <td>4584</td>\n",
       "      <td>6452</td>\n",
       "      <td>1.93</td>\n",
       "      <td>28764</td>\n",
       "    </tr>\n",
       "    <tr>\n",
       "      <th>2</th>\n",
       "      <td>중구</td>\n",
       "      <td>64714</td>\n",
       "      <td>131793</td>\n",
       "      <td>63495</td>\n",
       "      <td>68298</td>\n",
       "      <td>121312</td>\n",
       "      <td>58659</td>\n",
       "      <td>62653</td>\n",
       "      <td>10481</td>\n",
       "      <td>4836</td>\n",
       "      <td>5645</td>\n",
       "      <td>1.87</td>\n",
       "      <td>25920</td>\n",
       "    </tr>\n",
       "    <tr>\n",
       "      <th>3</th>\n",
       "      <td>용산구</td>\n",
       "      <td>107825</td>\n",
       "      <td>227106</td>\n",
       "      <td>109826</td>\n",
       "      <td>117280</td>\n",
       "      <td>213151</td>\n",
       "      <td>102312</td>\n",
       "      <td>110839</td>\n",
       "      <td>13955</td>\n",
       "      <td>7514</td>\n",
       "      <td>6441</td>\n",
       "      <td>1.98</td>\n",
       "      <td>39747</td>\n",
       "    </tr>\n",
       "    <tr>\n",
       "      <th>4</th>\n",
       "      <td>성동구</td>\n",
       "      <td>133089</td>\n",
       "      <td>284766</td>\n",
       "      <td>137620</td>\n",
       "      <td>147146</td>\n",
       "      <td>277361</td>\n",
       "      <td>134519</td>\n",
       "      <td>142842</td>\n",
       "      <td>7405</td>\n",
       "      <td>3101</td>\n",
       "      <td>4304</td>\n",
       "      <td>2.08</td>\n",
       "      <td>49462</td>\n",
       "    </tr>\n",
       "  </tbody>\n",
       "</table>\n",
       "</div>"
      ],
      "text/plain": [
       "    구별     세대소계       소계       남자       여자    한국인소계       남자       여자  \\\n",
       "0   소계  4469417  9638799  4649446  4989353  9386034  4540031  4846003   \n",
       "1  종로구    72067   150453    71890    78563   139417    67306    72111   \n",
       "2   중구    64714   131793    63495    68298   121312    58659    62653   \n",
       "3  용산구   107825   227106   109826   117280   213151   102312   110839   \n",
       "4  성동구   133089   284766   137620   147146   277361   134519   142842   \n",
       "\n",
       "   등록외국인소계      남자      여자  세대당인구  65세 이상 고령자  \n",
       "0   252765  109415  143350   2.10     1743696  \n",
       "1    11036    4584    6452   1.93       28764  \n",
       "2    10481    4836    5645   1.87       25920  \n",
       "3    13955    7514    6441   1.98       39747  \n",
       "4     7405    3101    4304   2.08       49462  "
      ]
     },
     "execution_count": 34,
     "metadata": {},
     "output_type": "execute_result"
    }
   ],
   "source": [
    "# 서울시 구별 인구데이터 로드\n",
    "dfSeoulPop = pd.read_excel('./data/서울시_구별_인구데이터.xlsx',header=2,usecols='B,O:Z')\n",
    "dfSeoulPop.columns = ['구별','세대소계','소계','남자','여자','한국인소계','남자','여자','등록외국인소계','남자','여자','세대당인구','65세 이상 고령자']\n",
    "dfSeoulPop.head()"
   ]
  },
  {
   "cell_type": "code",
   "execution_count": 35,
   "metadata": {},
   "outputs": [],
   "source": [
    "## 서울시 인구데이터 저장\n",
    "dfSeoulPop.to_excel('./data/수정_서울시_구별_인구데이터.xlsx',index=False)"
   ]
  },
  {
   "cell_type": "code",
   "execution_count": 41,
   "metadata": {},
   "outputs": [
    {
     "name": "stderr",
     "output_type": "stream",
     "text": [
      "g:\\DEV\\Python312\\Lib\\site-packages\\openpyxl\\styles\\stylesheet.py:226: UserWarning: Workbook contains no default style, apply openpyxl's default\n",
      "  warn(\"Workbook contains no default style, apply openpyxl's default\")\n"
     ]
    },
    {
     "data": {
      "text/html": [
       "<div>\n",
       "<style scoped>\n",
       "    .dataframe tbody tr th:only-of-type {\n",
       "        vertical-align: middle;\n",
       "    }\n",
       "\n",
       "    .dataframe tbody tr th {\n",
       "        vertical-align: top;\n",
       "    }\n",
       "\n",
       "    .dataframe thead th {\n",
       "        text-align: right;\n",
       "    }\n",
       "</style>\n",
       "<table border=\"1\" class=\"dataframe\">\n",
       "  <thead>\n",
       "    <tr style=\"text-align: right;\">\n",
       "      <th></th>\n",
       "      <th>구</th>\n",
       "      <th>소계</th>\n",
       "      <th>여성대표자</th>\n",
       "      <th>종사자수 소계</th>\n",
       "      <th>남자</th>\n",
       "      <th>여자</th>\n",
       "    </tr>\n",
       "  </thead>\n",
       "  <tbody>\n",
       "    <tr>\n",
       "      <th>0</th>\n",
       "      <td>소계</td>\n",
       "      <td>1188091</td>\n",
       "      <td>407948</td>\n",
       "      <td>5771226</td>\n",
       "      <td>3218529</td>\n",
       "      <td>2552697</td>\n",
       "    </tr>\n",
       "    <tr>\n",
       "      <th>1</th>\n",
       "      <td>종로구</td>\n",
       "      <td>48361</td>\n",
       "      <td>16563</td>\n",
       "      <td>275063</td>\n",
       "      <td>153210</td>\n",
       "      <td>121853</td>\n",
       "    </tr>\n",
       "    <tr>\n",
       "      <th>2</th>\n",
       "      <td>중구</td>\n",
       "      <td>70308</td>\n",
       "      <td>25794</td>\n",
       "      <td>386564</td>\n",
       "      <td>213782</td>\n",
       "      <td>172782</td>\n",
       "    </tr>\n",
       "    <tr>\n",
       "      <th>3</th>\n",
       "      <td>용산구</td>\n",
       "      <td>29680</td>\n",
       "      <td>10454</td>\n",
       "      <td>152605</td>\n",
       "      <td>84314</td>\n",
       "      <td>68291</td>\n",
       "    </tr>\n",
       "    <tr>\n",
       "      <th>4</th>\n",
       "      <td>성동구</td>\n",
       "      <td>41665</td>\n",
       "      <td>13447</td>\n",
       "      <td>203221</td>\n",
       "      <td>116978</td>\n",
       "      <td>86243</td>\n",
       "    </tr>\n",
       "  </tbody>\n",
       "</table>\n",
       "</div>"
      ],
      "text/plain": [
       "     구       소계   여성대표자  종사자수 소계       남자       여자\n",
       "0   소계  1188091  407948  5771226  3218529  2552697\n",
       "1  종로구    48361   16563   275063   153210   121853\n",
       "2   중구    70308   25794   386564   213782   172782\n",
       "3  용산구    29680   10454   152605    84314    68291\n",
       "4  성동구    41665   13447   203221   116978    86243"
      ]
     },
     "execution_count": 41,
     "metadata": {},
     "output_type": "execute_result"
    }
   ],
   "source": [
    "## 서울시 구별 사업체현황 로드\n",
    "dfSeoulWork = pd.read_excel('./data/서울시_구별_사업체현황.xlsx',header=4,usecols='B:G')\n",
    "dfSeoulWork.columns=['구','소계','여성대표자','종사자수 소계','남자','여자']\n",
    "dfSeoulWork.head()\n"
   ]
  },
  {
   "cell_type": "code",
   "execution_count": 42,
   "metadata": {},
   "outputs": [],
   "source": [
    "dfSeoulWork.to_excel('./data/수정_서울_구별사업체.xlsx',index=False)"
   ]
  }
 ],
 "metadata": {
  "kernelspec": {
   "display_name": "Python 3",
   "language": "python",
   "name": "python3"
  },
  "language_info": {
   "codemirror_mode": {
    "name": "ipython",
    "version": 3
   },
   "file_extension": ".py",
   "mimetype": "text/x-python",
   "name": "python",
   "nbconvert_exporter": "python",
   "pygments_lexer": "ipython3",
   "version": "3.12.2"
  }
 },
 "nbformat": 4,
 "nbformat_minor": 2
}
