{
 "cells": [
  {
   "cell_type": "markdown",
   "metadata": {},
   "source": [
    "## 빅데이터 학습\n",
    "\n",
    "### Selenium 라이브러리\n",
    "- 웹크롤링 자동화 도구\n",
    "- 크롬 드라이버 필수(자신의 크롬 웹브라우저 버전과 일치<major.minor.>)\n",
    "\n",
    "#### Selenium 설치\n",
    "```python\n",
    "!pip install selenium\n",
    "```"
   ]
  },
  {
   "cell_type": "code",
   "execution_count": 235,
   "metadata": {},
   "outputs": [],
   "source": [
    "# 셀레니움 라이브러리 사용등록\n",
    "\n",
    "from selenium import webdriver"
   ]
  },
  {
   "cell_type": "code",
   "execution_count": 236,
   "metadata": {},
   "outputs": [],
   "source": [
    "driver = webdriver.Chrome()"
   ]
  },
  {
   "cell_type": "code",
   "execution_count": 237,
   "metadata": {},
   "outputs": [],
   "source": [
    "url = 'https://www.melon.com/chart/index.htm'\n",
    "driver.get(url)"
   ]
  },
  {
   "cell_type": "markdown",
   "metadata": {},
   "source": [
    "#### BeatifulSoup4 사용"
   ]
  },
  {
   "cell_type": "code",
   "execution_count": 238,
   "metadata": {},
   "outputs": [],
   "source": [
    "from bs4 import BeautifulSoup"
   ]
  },
  {
   "cell_type": "code",
   "execution_count": 239,
   "metadata": {},
   "outputs": [],
   "source": [
    "html = driver.page_source # 웹 드라이버로 열고 있는 페이지의 소스를 저장\n",
    "\n",
    "soup = BeautifulSoup(html,'html.parser')"
   ]
  },
  {
   "cell_type": "code",
   "execution_count": null,
   "metadata": {},
   "outputs": [],
   "source": [
    "soup"
   ]
  },
  {
   "cell_type": "markdown",
   "metadata": {},
   "source": [
    "#### bs4\n",
    "- html로 파싱된 html 소스 코드를 태그별로 필요한 것만 가지고 오는 처리"
   ]
  },
  {
   "cell_type": "code",
   "execution_count": 241,
   "metadata": {},
   "outputs": [],
   "source": [
    "#title = soup.select('input.input_check')\n",
    "\n",
    "# html은 부모 자식의 관계로 구성 되어 있다.\n",
    "# 내가 필요한 자식 안의 데이터를 가져오긴 위해서는 부모까지 지정해줘야 한다.\n",
    "top100 = soup.select('table > tbody > tr')"
   ]
  },
  {
   "cell_type": "code",
   "execution_count": 247,
   "metadata": {},
   "outputs": [
    {
     "data": {
      "text/plain": [
       "100"
      ]
     },
     "execution_count": 247,
     "metadata": {},
     "output_type": "execute_result"
    }
   ],
   "source": [
    "#title\n",
    "\n",
    "song1 = top100[0]\n"
   ]
  },
  {
   "cell_type": "code",
   "execution_count": 243,
   "metadata": {},
   "outputs": [
    {
     "data": {
      "text/plain": [
       "<a href=\"javascript:melon.link.goArtistDetail('2403002');\" title=\"비비 (BIBI) - 페이지 이동\">비비 (BIBI)</a>"
      ]
     },
     "execution_count": 243,
     "metadata": {},
     "output_type": "execute_result"
    }
   ],
   "source": [
    "## title (배열) 인덱스로 필요한 정보까지 찾을 수 있음\n",
    "# select 함수를 잘 활용해서 필요한 정보를 찾을 수 있다\n",
    "title = song1.select('a')\n",
    "title[3]"
   ]
  },
  {
   "cell_type": "code",
   "execution_count": 244,
   "metadata": {},
   "outputs": [],
   "source": [
    "title1,singer1= song1.select('span > a')"
   ]
  },
  {
   "cell_type": "code",
   "execution_count": 245,
   "metadata": {},
   "outputs": [
    {
     "data": {
      "text/plain": [
       "'비비 (BIBI)'"
      ]
     },
     "execution_count": 245,
     "metadata": {},
     "output_type": "execute_result"
    }
   ],
   "source": [
    "title1.text\n",
    "singer1.text"
   ]
  },
  {
   "cell_type": "code",
   "execution_count": 271,
   "metadata": {},
   "outputs": [],
   "source": [
    "songRanking = []\n",
    "\n",
    "num = 1\n",
    "for information in top100:\n",
    "    rank = num\n",
    "    #title= information.select('span > a')[0].text\n",
    "    #singer = information.select('span > a')[1].text\n",
    "    title, singer = information.select('span > a')[0], information.select('span > a')[1]\n",
    "    songRanking.append([rank,title.text,singer.text])\n",
    "    num += 1\n",
    "    #songRanking.append([rank,title,singer])\n",
    "    "
   ]
  },
  {
   "cell_type": "code",
   "execution_count": 272,
   "metadata": {},
   "outputs": [
    {
     "data": {
      "text/plain": [
       "[[1, '밤양갱', '비비 (BIBI)'],\n",
       " [2, '첫 만남은 계획대로 되지 않아', 'TWS (투어스)'],\n",
       " [3, '나는 아픈 건 딱 질색이니까', '(여자)아이들'],\n",
       " [4, 'EASY', 'LE SSERAFIM (르세라핌)'],\n",
       " [5, 'Love wins all', '아이유'],\n",
       " [6, 'To. X', '태연 (TAEYEON)'],\n",
       " [7, '비의 랩소디', '임재현'],\n",
       " [8, '홀씨', '아이유'],\n",
       " [9, 'Love 119', 'RIIZE'],\n",
       " [10, '그대만 있다면 (여름날 우리 X 너드커넥션 (Nerd Connection))', '너드커넥션 (Nerd Connection)'],\n",
       " [11, '에피소드', '이무진'],\n",
       " [12, 'Perfect Night', 'LE SSERAFIM (르세라핌)'],\n",
       " [13, '천상연', '이창섭'],\n",
       " [14, 'Shopper', '아이유'],\n",
       " [15, '사랑은 늘 도망가', '임영웅'],\n",
       " [16, '헤어지자 말해요', '박재정'],\n",
       " [17, 'Drama', 'aespa'],\n",
       " [18, '인사', '범진'],\n",
       " [19, 'Smart', 'LE SSERAFIM (르세라핌)'],\n",
       " [20, 'Super Lady', '(여자)아이들'],\n",
       " [21, '모래 알갱이', '임영웅'],\n",
       " [22, '꿈', '태연 (TAEYEON)'],\n",
       " [23, '우리들의 블루스', '임영웅'],\n",
       " [24, 'WAY 4 LUV', 'PLAVE'],\n",
       " [25, 'Wife', '(여자)아이들'],\n",
       " [26, 'Do or Die', '임영웅'],\n",
       " [27, 'Seven (feat. Latto) - Clean Ver.', '정국'],\n",
       " [28, 'MANIAC', 'VIVIZ (비비지)'],\n",
       " [29, '다시 만날 수 있을까', '임영웅'],\n",
       " [30, 'I AM', 'IVE (아이브)'],\n",
       " [31, '이제 나만 믿어요', '임영웅'],\n",
       " [32, '무지개', '임영웅'],\n",
       " [33, 'London Boy', '임영웅'],\n",
       " [34, '너의 모든 순간', '성시경'],\n",
       " [35, 'Polaroid', '임영웅'],\n",
       " [36, 'Love Lee', 'AKMU (악뮤)'],\n",
       " [37, '아버지', '임영웅'],\n",
       " [38, 'Get A Guitar', 'RIIZE'],\n",
       " [39, '인생찬가', '임영웅'],\n",
       " [40, 'Watch Me Woo!', 'PLAVE'],\n",
       " [41, '예뻤어', 'DAY6 (데이식스)'],\n",
       " [42, '우리 영화', 'PLAVE'],\n",
       " [43, 'A bientot', '임영웅'],\n",
       " [44, '한 페이지가 될 수 있게', 'DAY6 (데이식스)'],\n",
       " [45, 'From', 'PLAVE'],\n",
       " [46, '사랑인가 봐', '멜로망스'],\n",
       " [47, '버추얼 아이돌', 'PLAVE'],\n",
       " [48, '사막에서 꽃을 피우듯', '우디 (Woody)'],\n",
       " [49, 'Baddie', 'IVE (아이브)'],\n",
       " [50, '잘 지내자, 우리 (여름날 우리 X 로이킴)', '로이킴'],\n",
       " [51, '연애편지', '임영웅'],\n",
       " [52, 'You & Me', '제니 (JENNIE)'],\n",
       " [53, '사랑할 수밖에', '볼빨간사춘기'],\n",
       " [54, 'Hype Boy', 'NewJeans'],\n",
       " [55, '퀸카 (Queencard)', '(여자)아이들'],\n",
       " [56, 'Super Shy', 'NewJeans'],\n",
       " [57, 'Ditto', 'NewJeans'],\n",
       " [58, 'Merry PLLIstmas', 'PLAVE'],\n",
       " [59, '후라이의 꿈', 'AKMU (악뮤)'],\n",
       " [60, '관객이 될게 (I stan U)', '아이유'],\n",
       " [61, '봄날', '방탄소년단'],\n",
       " [62, '사건의 지평선', '윤하 (YOUNHA)'],\n",
       " [63, '어떻게 이별까지 사랑하겠어, 널 사랑하는 거지', 'AKMU (악뮤)'],\n",
       " [64, '그대가 내 안에 박혔다(그내박)', '순순희(기태)'],\n",
       " [65, 'ETA', 'NewJeans'],\n",
       " [66, 'Standing Next to You', '정국'],\n",
       " [67, '사랑하지 않아서 그랬어', '임한별'],\n",
       " [68, '심(心)', 'DK(디셈버)'],\n",
       " [69, '기억해줘요 내 모든 날과 그때를', '화곡동 청개구리'],\n",
       " [70, '사랑..그게 뭔데', '지아'],\n",
       " [71, '모든 날, 모든 순간 (Every day, Every Moment)', '폴킴'],\n",
       " [72, '주저하는 연인들을 위해', '잔나비'],\n",
       " [73, 'Yes or No (Feat. 허윤진 of LE SSERAFIM, Crush)', '그루비룸 (GroovyRoom)'],\n",
       " [74, '별 떨어진다 (I Do)', '디오 (D.O.)'],\n",
       " [75, '취중고백', '김민석'],\n",
       " [76, 'Spicy', 'aespa'],\n",
       " [77, \"I Don't Think That I Like Her\", 'Charlie Puth'],\n",
       " [78, '해요 (2022)', '#안녕'],\n",
       " [79, 'Dynamite', '방탄소년단'],\n",
       " [80, '이브, 프시케 그리고 푸른 수염의 아내', 'LE SSERAFIM (르세라핌)'],\n",
       " [81, 'LOVE DIVE', 'IVE (아이브)'],\n",
       " [82, 'Steal The Show (From “엘리멘탈”)', 'Lauv'],\n",
       " [83, 'Kitsch', 'IVE (아이브)'],\n",
       " [84, '다정히 내 이름을 부르면', '경서예지'],\n",
       " [85, '그대가 있는 곳, 언제 어디든', '로이킴'],\n",
       " [86, 'After LIKE', 'IVE (아이브)'],\n",
       " [87, '파이팅 해야지 (Feat. 이영지)', '부석순 (SEVENTEEN)'],\n",
       " [88, '손오공', '세븐틴 (SEVENTEEN)'],\n",
       " [89, '그중에 그대를 만나', '김호중'],\n",
       " [90, '물론', '허각'],\n",
       " [91, 'Shh.. (Feat. 혜인(HYEIN), 조원선 & Special Narr. 패티김)', '아이유'],\n",
       " [92, 'Dangerously', 'Charlie Puth'],\n",
       " [93, '봄이 와도', '로이킴'],\n",
       " [94, 'Discord', 'QWER'],\n",
       " [95, '첫 눈', 'EXO'],\n",
       " [96, 'OMG', 'NewJeans'],\n",
       " [97, '건물 사이에 피어난 장미 (Rose Blossom)', 'H1-KEY (하이키)'],\n",
       " [98, '음악의 신', '세븐틴 (SEVENTEEN)'],\n",
       " [99, 'Butter', '방탄소년단'],\n",
       " [100, 'UNFORGIVEN (feat. Nile Rodgers)', 'LE SSERAFIM (르세라핌)']]"
      ]
     },
     "execution_count": 272,
     "metadata": {},
     "output_type": "execute_result"
    }
   ],
   "source": [
    "songRanking"
   ]
  },
  {
   "cell_type": "code",
   "execution_count": 255,
   "metadata": {},
   "outputs": [],
   "source": [
    "import pandas as pd"
   ]
  },
  {
   "cell_type": "code",
   "execution_count": 256,
   "metadata": {},
   "outputs": [],
   "source": [
    "df_top100 = pd.DataFrame(songRanking,columns=['순위','노래제목','가수'])"
   ]
  },
  {
   "cell_type": "code",
   "execution_count": 258,
   "metadata": {},
   "outputs": [],
   "source": [
    "df_top100.to_excel('./data/melon_top100.xlsx',index=False)"
   ]
  }
 ],
 "metadata": {
  "kernelspec": {
   "display_name": "Python 3",
   "language": "python",
   "name": "python3"
  },
  "language_info": {
   "codemirror_mode": {
    "name": "ipython",
    "version": 3
   },
   "file_extension": ".py",
   "mimetype": "text/x-python",
   "name": "python",
   "nbconvert_exporter": "python",
   "pygments_lexer": "ipython3",
   "version": "3.12.2"
  }
 },
 "nbformat": 4,
 "nbformat_minor": 2
}
