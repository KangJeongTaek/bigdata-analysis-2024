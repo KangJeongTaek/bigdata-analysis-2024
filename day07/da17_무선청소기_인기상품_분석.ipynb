{
 "cells": [
  {
   "cell_type": "markdown",
   "metadata": {},
   "source": [
    "## 빅데이터 실습\n",
    "\n",
    "### 다나와 무선청소기 상품분석\n",
    "\n",
    "#### 데이터 수집\n",
    "\n",
    "##### 셀레니움\n",
    "- 무선청소기에 검색할 URL\n",
    "\n",
    "    https://search.danawa.com/dsearch.php?query=무선청소기&originalQuery=무선청소기&previousKeyword=무선청소기&checkedInfo=N&volumeType=allvs&page=1&limit=120&sort=saveDESC&list=list&boost=true&tab=goods&addDelivery=N&coupangMemberSort=N&mode=simple&isInitTireSmartFinder=N&recommendedSort=N&defaultUICategoryCode=10325109&defaultPhysicsCategoryCode=72%7C80%7C81%7C0&defaultVmTab=3138&defaultVaTab=1098867&isZeroPrice=Y&quickProductYN=N&priceUnitSort=N&priceUnitSortOrder=A\n",
    "\n",
    "\n",
    "- 무선 청소기 검색에 사용할 URL(최소화 버전)\n",
    "\n",
    "    https://search.danawa.com/dsearch.php?query=무선청소기&page=1&limit=120&sort=saveDESC&list=list"
   ]
  },
  {
   "cell_type": "code",
   "execution_count": 1,
   "metadata": {},
   "outputs": [],
   "source": [
    "from selenium import webdriver\n",
    "import time\n",
    "from bs4 import BeautifulSoup\n",
    "from urllib import parse\n",
    "from tqdm import tqdm"
   ]
  },
  {
   "cell_type": "code",
   "execution_count": 2,
   "metadata": {},
   "outputs": [],
   "source": [
    "# 웹드라이버로 크롬 오픈\n",
    "url = r\"https://search.danawa.com/dsearch.php?query=%EB%AC%B4%EC%84%A0%EC%B2%AD%EC%86%8C%EA%B8%B0&originalQuery=%EB%AC%B4%EC%84%A0%EC%B2%AD%EC%86%8C%EA%B8%B0&previousKeyword=%EB%AC%B4%EC%84%A0%EC%B2%AD%EC%86%8C%EA%B8%B0&checkedInfo=N&volumeType=allvs&page=1&limit=120&sort=saveDESC&list=list&boost=true&tab=goods&addDelivery=N&coupangMemberSort=N&mode=simple&isInitTireSmartFinder=N&recommendedSort=N&defaultUICategoryCode=10325109&defaultPhysicsCategoryCode=72%7C80%7C81%7C0&defaultVmTab=3138&defaultVaTab=1098867&isZeroPrice=Y&quickProductYN=N&priceUnitSort=N&priceUnitSortOrder=A\"\n",
    "driver = webdriver.Chrome()\n",
    "driver.get(url)\n",
    "time.sleep(5)"
   ]
  },
  {
   "cell_type": "code",
   "execution_count": 3,
   "metadata": {},
   "outputs": [],
   "source": [
    "html = driver.page_source\n",
    "\n",
    "soup = BeautifulSoup(html,'html.parser')"
   ]
  },
  {
   "cell_type": "code",
   "execution_count": null,
   "metadata": {},
   "outputs": [],
   "source": [
    "soup"
   ]
  },
  {
   "cell_type": "code",
   "execution_count": 45,
   "metadata": {},
   "outputs": [],
   "source": [
    "prodItems = soup.select('ul.product_list > li.prod_item')"
   ]
  },
  {
   "cell_type": "code",
   "execution_count": 33,
   "metadata": {},
   "outputs": [
    {
     "data": {
      "text/plain": [
       "'필박스 어몽어스 미니미 지우개 청소기'"
      ]
     },
     "execution_count": 33,
     "metadata": {},
     "output_type": "execute_result"
    }
   ],
   "source": [
    "## id =\"product#####\" 이런식으로 전개되므로 productItem 이 아니면 패스\n",
    "prodItems[6].select('p.prod_name > a')[0].text.strip()\n"
   ]
  },
  {
   "cell_type": "code",
   "execution_count": 34,
   "metadata": {},
   "outputs": [
    {
     "data": {
      "text/plain": [
       "'핸디스틱청소기 / 무선 / 흡입형 / 흡입력: 150AW / 흡입력: 26000PaPa / [구성] 벽걸이거치 / 브러쉬: 바닥 / 물걸레: 별매 / 침구 / 솔형 / 틈새 / [배터리] 사용시간: 1시간(최대) / 충전시간: 3시간 / 분리형(1개) / [청소] BLDC모터 / 먼지통: 0.5L / [부가] 디스플레이표시 / 헤파필터 / 5단계여과'"
      ]
     },
     "execution_count": 34,
     "metadata": {},
     "output_type": "execute_result"
    }
   ],
   "source": [
    "#제품 사양 가져오기\n",
    "prodItems[0].select('div.spec_list')[0].text.strip().replace('\\t','')"
   ]
  },
  {
   "cell_type": "code",
   "execution_count": 35,
   "metadata": {},
   "outputs": [
    {
     "data": {
      "text/plain": [
       "'286610'"
      ]
     },
     "execution_count": 35,
     "metadata": {},
     "output_type": "execute_result"
    }
   ],
   "source": [
    "#제품 가격 가져오기\n",
    "prodItems[0].select('input')[1].get('value')"
   ]
  },
  {
   "cell_type": "code",
   "execution_count": 36,
   "metadata": {},
   "outputs": [
    {
     "data": {
      "text/plain": [
       "'2022.12.'"
      ]
     },
     "execution_count": 36,
     "metadata": {},
     "output_type": "execute_result"
    }
   ],
   "source": [
    "#등록월 가져오기\n",
    "prodItems[0].select('div.prod_sub_meta> dl > dd')[0].text.strip()"
   ]
  },
  {
   "cell_type": "markdown",
   "metadata": {},
   "source": [
    "##### 1번 페이지에서 상품 정보 추출"
   ]
  },
  {
   "cell_type": "code",
   "execution_count": 37,
   "metadata": {},
   "outputs": [],
   "source": [
    "productData = []\n",
    "\n",
    "for product in prodItems:\n",
    "    try:\n",
    "        product_name = product.select('p.prod_name >a')[0].text.strip()\n",
    "        product_spec = product.select('div.spec_list')[0].text.strip().replace('\\t','')\n",
    "        product_price = product.select('input')[1].get('value')\n",
    "        product_reg_mon = product.select('div.prod_sub_meta> dl>dd')[0].text.strip()\n",
    "        productData.append([product_name,product_spec,product_price,product_reg_mon])\n",
    "    except:\n",
    "        pass"
   ]
  },
  {
   "cell_type": "code",
   "execution_count": 11,
   "metadata": {},
   "outputs": [],
   "source": [
    "import pandas as pd"
   ]
  },
  {
   "cell_type": "code",
   "execution_count": 38,
   "metadata": {},
   "outputs": [],
   "source": [
    "dfProdData = pd.DataFrame(productData,columns=['제품명','제품 스펙','제품 가격','등록 월'])"
   ]
  },
  {
   "cell_type": "code",
   "execution_count": 39,
   "metadata": {},
   "outputs": [
    {
     "data": {
      "text/html": [
       "<div>\n",
       "<style scoped>\n",
       "    .dataframe tbody tr th:only-of-type {\n",
       "        vertical-align: middle;\n",
       "    }\n",
       "\n",
       "    .dataframe tbody tr th {\n",
       "        vertical-align: top;\n",
       "    }\n",
       "\n",
       "    .dataframe thead th {\n",
       "        text-align: right;\n",
       "    }\n",
       "</style>\n",
       "<table border=\"1\" class=\"dataframe\">\n",
       "  <thead>\n",
       "    <tr style=\"text-align: right;\">\n",
       "      <th></th>\n",
       "      <th>제품명</th>\n",
       "      <th>제품 스펙</th>\n",
       "      <th>제품 가격</th>\n",
       "      <th>등록 월</th>\n",
       "    </tr>\n",
       "  </thead>\n",
       "  <tbody>\n",
       "    <tr>\n",
       "      <th>115</th>\n",
       "      <td>삼성전자 제트 VS20T9213QDCSW</td>\n",
       "      <td>핸디스틱청소기 / 무선 / 흡입+물걸레(교체) / 흡입력: 200W / 소비전력: ...</td>\n",
       "      <td>869000</td>\n",
       "      <td>2020.10.</td>\n",
       "    </tr>\n",
       "    <tr>\n",
       "      <th>116</th>\n",
       "      <td>삼성전자 제트 VS15T7037P1</td>\n",
       "      <td>핸디스틱청소기 / 무선 / 흡입+물걸레(교체) / 흡입력: 150W / 소비전력: ...</td>\n",
       "      <td>735900</td>\n",
       "      <td>2020.10.</td>\n",
       "    </tr>\n",
       "    <tr>\n",
       "      <th>117</th>\n",
       "      <td>디오바코 V200 LDVCLA200</td>\n",
       "      <td>핸디스틱청소기 / 무선 / 흡입형 / 흡입력: 9000Pa / 소비전력: 120W ...</td>\n",
       "      <td>92000</td>\n",
       "      <td>2020.10.</td>\n",
       "    </tr>\n",
       "    <tr>\n",
       "      <th>118</th>\n",
       "      <td>TIANHONG 리락쿠마 미니 고급 청소기</td>\n",
       "      <td>탁상용청소기 / 무선 / 흡입형 / [부가] 색상: 옐로우, 블루 / 크기(가로x세...</td>\n",
       "      <td>8970</td>\n",
       "      <td>2020.10.</td>\n",
       "    </tr>\n",
       "    <tr>\n",
       "      <th>119</th>\n",
       "      <td>파나소닉 MC-WDD91</td>\n",
       "      <td>핸디스틱청소기 / 무선 / 흡입형 / 흡입력: 100W / 흡입력: 18000Pa ...</td>\n",
       "      <td>179000</td>\n",
       "      <td>2020.10.</td>\n",
       "    </tr>\n",
       "  </tbody>\n",
       "</table>\n",
       "</div>"
      ],
      "text/plain": [
       "                         제품명  \\\n",
       "115   삼성전자 제트 VS20T9213QDCSW   \n",
       "116      삼성전자 제트 VS15T7037P1   \n",
       "117      디오바코 V200 LDVCLA200   \n",
       "118  TIANHONG 리락쿠마 미니 고급 청소기   \n",
       "119            파나소닉 MC-WDD91   \n",
       "\n",
       "                                                 제품 스펙   제품 가격      등록 월  \n",
       "115  핸디스틱청소기 / 무선 / 흡입+물걸레(교체) / 흡입력: 200W / 소비전력: ...  869000  2020.10.  \n",
       "116  핸디스틱청소기 / 무선 / 흡입+물걸레(교체) / 흡입력: 150W / 소비전력: ...  735900  2020.10.  \n",
       "117  핸디스틱청소기 / 무선 / 흡입형 / 흡입력: 9000Pa / 소비전력: 120W ...   92000  2020.10.  \n",
       "118  탁상용청소기 / 무선 / 흡입형 / [부가] 색상: 옐로우, 블루 / 크기(가로x세...    8970  2020.10.  \n",
       "119  핸디스틱청소기 / 무선 / 흡입형 / 흡입력: 100W / 흡입력: 18000Pa ...  179000  2020.10.  "
      ]
     },
     "execution_count": 39,
     "metadata": {},
     "output_type": "execute_result"
    }
   ],
   "source": [
    "dfProdData.tail()"
   ]
  },
  {
   "cell_type": "markdown",
   "metadata": {},
   "source": [
    "##### 여러 페이지 크롤링 하는 방법\n",
    "\n",
    "- URl\n",
    "\n",
    "https://search.danawa.com/dsearch.php?query=무선청소기&originalQuery=무선청소기&previousKeyword=무선청소기&checkedInfo=N&volumeType=allvs&page=1&limit=120&sort=saveDESC&list=list&boost=true&tab=goods&addDelivery=N&coupangMemberSort=N&mode=simple&isInitTireSmartFinder=N&recommendedSort=N&defaultUICategoryCode=10325109&defaultPhysicsCategoryCode=72%7C80%7C81%7C0&defaultVmTab=3138&defaultVaTab=1098867&isZeroPrice=Y&quickProductYN=N&priceUnitSort=N&priceUnitSortOrder=A"
   ]
  },
  {
   "cell_type": "code",
   "execution_count": 18,
   "metadata": {},
   "outputs": [],
   "source": [
    "## 검색어랑 ,URL 페이지를 변경하면서 url 생성해주는 함수\n",
    "\n",
    "def get_search_page_url(keyword,page):\n",
    "    keyword = parse.quote(keyword)\n",
    "    url = f'https://search.danawa.com/dsearch.php?query={keyword}&originalQuery={keyword}&previousKeyword={keyword}&checkedInfo=N&volumeType=allvs&page={page}&' + \\\n",
    "        'limit=120&sort=saveDESC&list=list&boost=true&tab=goods&addDelivery=N&coupangMemberSort=N&mode=simple&isInitTireSmartFinder=N&' +\\\n",
    "    'recommendedSort=N&defaultUICategoryCode=10325109&defaultPhysicsCategoryCode=72%7C80%7C81%7C0&defaultVmTab=3138&defaultVaTab=1098867&isZeroPrice=Y&'+\\\n",
    "        'quickProductYN=N&priceUnitSort=N&priceUnitSortOrder=A'\n",
    "    return url\n"
   ]
  },
  {
   "cell_type": "code",
   "execution_count": 47,
   "metadata": {},
   "outputs": [],
   "source": [
    "## 상품 정보 추출 함수\n",
    "def getProdItems(prodItems):\n",
    "    prodData = []\n",
    "\n",
    "    for product in prodItems:\n",
    "        try:\n",
    "            product_name = product.select('p.prod_name >a')[0].text.strip()\n",
    "            product_spec = product.select('div.spec_list')[0].text.strip().replace('\\t','')\n",
    "            product_price = product.select('input')[1].get('value')\n",
    "            product_reg_mon = product.select('div.prod_sub_meta> dl>dd')[0].text.strip()\n",
    "            prodData.append([product_name,product_spec,product_price,product_reg_mon])\n",
    "        except:\n",
    "            pass\n",
    "    return prodData"
   ]
  },
  {
   "cell_type": "code",
   "execution_count": null,
   "metadata": {},
   "outputs": [],
   "source": [
    "getProdItems(prodItems)"
   ]
  },
  {
   "cell_type": "code",
   "execution_count": 15,
   "metadata": {},
   "outputs": [
    {
     "data": {
      "text/plain": [
       "'https://search.danawa.com/dsearch.php?query=%EA%B0%A4%ED%83%AD%20S9&originalQuery=%EA%B0%A4%ED%83%AD%20S9&previousKeyword=%EA%B0%A4%ED%83%AD%20S9&checkedInfo=N&volumeType=allvs&page=10&limit=120&sort=saveDESC&list=list&boost=true&tab=goods&addDelivery=N&coupangMemberSort=N&mode=simple&isInitTireSmartFinder=N&recommendedSort=N&defaultUICategoryCode=10325109&defaultPhysicsCategoryCode=72%7C80%7C81%7C0&defaultVmTab=3138&defaultVaTab=1098867&isZeroPrice=Y&quickProductYN=N&priceUnitSort=N&priceUnitSortOrder=A'"
      ]
     },
     "execution_count": 15,
     "metadata": {},
     "output_type": "execute_result"
    }
   ],
   "source": [
    "# 검색어에 띄어쓰기가 있다면 링크 URL에 문제가 생길 수도 있으니 urlencode 해주어야한다. -> parse.quote()\n",
    "get_search_page_url('갤탭 S9',10)"
   ]
  },
  {
   "cell_type": "code",
   "execution_count": 17,
   "metadata": {},
   "outputs": [
    {
     "name": "stderr",
     "output_type": "stream",
     "text": [
      "100%|██████████| 10/10 [00:05<00:00,  1.99it/s]\n"
     ]
    }
   ],
   "source": [
    "total_page = 10\n",
    "\n",
    "for page in tqdm(range(1,total_page +1)):\n",
    "    time.sleep(0.5)"
   ]
  },
  {
   "cell_type": "code",
   "execution_count": 49,
   "metadata": {},
   "outputs": [
    {
     "name": "stderr",
     "output_type": "stream",
     "text": [
      "100%|██████████| 10/10 [01:47<00:00, 10.75s/it]\n"
     ]
    }
   ],
   "source": [
    "## 여러 페이지 검색후 크롤링하는 작업\n",
    "\n",
    "driver = webdriver.Chrome()\n",
    "\n",
    "# 암묵적으로 맵 자원 로드를 위해서 3초 정도 대기한다.\n",
    "driver.implicitly_wait(3)\n",
    "\n",
    "keyword = '무선청소기'\n",
    "totalPage = 10\n",
    "# 최종 저장 리스트\n",
    "prodDataTotal = []\n",
    "\n",
    "for page in tqdm(range(1,totalPage+1)):\n",
    "    url = get_search_page_url(keyword,page)\n",
    "    driver.get(url)\n",
    "    #페이지 로딩이 완료될 때 까지 5초 대기\n",
    "    time.sleep(5)\n",
    "    \n",
    "    # 상품 정보 추출\n",
    "    html = driver.page_source\n",
    "    soup = BeautifulSoup(html,'html.parser')\n",
    "    prodItems = soup.select('ul.product_list > li.prod_item')\n",
    "    prodItemList = getProdItems(prodItems)\n",
    "\n",
    "    prodDataTotal += prodItemList"
   ]
  },
  {
   "cell_type": "code",
   "execution_count": 51,
   "metadata": {},
   "outputs": [],
   "source": [
    "dfProdDataTotal = pd.DataFrame(prodDataTotal)"
   ]
  },
  {
   "cell_type": "code",
   "execution_count": 52,
   "metadata": {},
   "outputs": [
    {
     "data": {
      "text/html": [
       "<div>\n",
       "<style scoped>\n",
       "    .dataframe tbody tr th:only-of-type {\n",
       "        vertical-align: middle;\n",
       "    }\n",
       "\n",
       "    .dataframe tbody tr th {\n",
       "        vertical-align: top;\n",
       "    }\n",
       "\n",
       "    .dataframe thead th {\n",
       "        text-align: right;\n",
       "    }\n",
       "</style>\n",
       "<table border=\"1\" class=\"dataframe\">\n",
       "  <thead>\n",
       "    <tr style=\"text-align: right;\">\n",
       "      <th></th>\n",
       "      <th>0</th>\n",
       "      <th>1</th>\n",
       "      <th>2</th>\n",
       "      <th>3</th>\n",
       "    </tr>\n",
       "  </thead>\n",
       "  <tbody>\n",
       "    <tr>\n",
       "      <th>1195</th>\n",
       "      <td>삼성전자 제트 VS20T9213QDCSW</td>\n",
       "      <td>핸디스틱청소기 / 무선 / 흡입+물걸레(교체) / 흡입력: 200W / 소비전력: ...</td>\n",
       "      <td>869000</td>\n",
       "      <td>2020.10.</td>\n",
       "    </tr>\n",
       "    <tr>\n",
       "      <th>1196</th>\n",
       "      <td>삼성전자 제트 VS15T7037P1</td>\n",
       "      <td>핸디스틱청소기 / 무선 / 흡입+물걸레(교체) / 흡입력: 150W / 소비전력: ...</td>\n",
       "      <td>735900</td>\n",
       "      <td>2020.10.</td>\n",
       "    </tr>\n",
       "    <tr>\n",
       "      <th>1197</th>\n",
       "      <td>디오바코 V200 LDVCLA200</td>\n",
       "      <td>핸디스틱청소기 / 무선 / 흡입형 / 흡입력: 9000Pa / 소비전력: 120W ...</td>\n",
       "      <td>92000</td>\n",
       "      <td>2020.10.</td>\n",
       "    </tr>\n",
       "    <tr>\n",
       "      <th>1198</th>\n",
       "      <td>TIANHONG 리락쿠마 미니 고급 청소기</td>\n",
       "      <td>탁상용청소기 / 무선 / 흡입형 / [부가] 색상: 옐로우, 블루 / 크기(가로x세...</td>\n",
       "      <td>8970</td>\n",
       "      <td>2020.10.</td>\n",
       "    </tr>\n",
       "    <tr>\n",
       "      <th>1199</th>\n",
       "      <td>파나소닉 MC-WDD91</td>\n",
       "      <td>핸디스틱청소기 / 무선 / 흡입형 / 흡입력: 100W / 흡입력: 18000Pa ...</td>\n",
       "      <td>179000</td>\n",
       "      <td>2020.10.</td>\n",
       "    </tr>\n",
       "  </tbody>\n",
       "</table>\n",
       "</div>"
      ],
      "text/plain": [
       "                            0  \\\n",
       "1195   삼성전자 제트 VS20T9213QDCSW   \n",
       "1196      삼성전자 제트 VS15T7037P1   \n",
       "1197      디오바코 V200 LDVCLA200   \n",
       "1198  TIANHONG 리락쿠마 미니 고급 청소기   \n",
       "1199            파나소닉 MC-WDD91   \n",
       "\n",
       "                                                      1       2         3  \n",
       "1195  핸디스틱청소기 / 무선 / 흡입+물걸레(교체) / 흡입력: 200W / 소비전력: ...  869000  2020.10.  \n",
       "1196  핸디스틱청소기 / 무선 / 흡입+물걸레(교체) / 흡입력: 150W / 소비전력: ...  735900  2020.10.  \n",
       "1197  핸디스틱청소기 / 무선 / 흡입형 / 흡입력: 9000Pa / 소비전력: 120W ...   92000  2020.10.  \n",
       "1198  탁상용청소기 / 무선 / 흡입형 / [부가] 색상: 옐로우, 블루 / 크기(가로x세...    8970  2020.10.  \n",
       "1199  핸디스틱청소기 / 무선 / 흡입형 / 흡입력: 100W / 흡입력: 18000Pa ...  179000  2020.10.  "
      ]
     },
     "execution_count": 52,
     "metadata": {},
     "output_type": "execute_result"
    }
   ],
   "source": [
    "dfProdDataTotal.tail()"
   ]
  },
  {
   "cell_type": "code",
   "execution_count": 53,
   "metadata": {},
   "outputs": [],
   "source": [
    "dfProdDataTotal.columns =['제품명','제품 스펙','가격','등록월']"
   ]
  },
  {
   "cell_type": "code",
   "execution_count": 55,
   "metadata": {},
   "outputs": [],
   "source": [
    "dfProdDataTotal.to_excel('./data/다나와_무선청소기_결과.xlsx',index=False)"
   ]
  },
  {
   "cell_type": "code",
   "execution_count": 67,
   "metadata": {},
   "outputs": [
    {
     "ename": "ValueError",
     "evalue": "invalid literal for int() with base 10: '//에어메이드 스마트타워 AMC-3501A'",
     "output_type": "error",
     "traceback": [
      "\u001b[1;31m---------------------------------------------------------------------------\u001b[0m",
      "\u001b[1;31mValueError\u001b[0m                                Traceback (most recent call last)",
      "Cell \u001b[1;32mIn[67], line 3\u001b[0m\n\u001b[0;32m      1\u001b[0m \u001b[38;5;28;01mfor\u001b[39;00m i \u001b[38;5;129;01min\u001b[39;00m dfProdDataTotal\u001b[38;5;241m.\u001b[39mindex:\n\u001b[0;32m      2\u001b[0m     df \u001b[38;5;241m=\u001b[39m dfProdDataTotal\u001b[38;5;241m.\u001b[39mloc[i,\u001b[38;5;124m'\u001b[39m\u001b[38;5;124m가격\u001b[39m\u001b[38;5;124m'\u001b[39m]\n\u001b[1;32m----> 3\u001b[0m     \u001b[38;5;28;43mint\u001b[39;49m\u001b[43m(\u001b[49m\u001b[43mdf\u001b[49m\u001b[43m)\u001b[49m\n",
      "\u001b[1;31mValueError\u001b[0m: invalid literal for int() with base 10: '//에어메이드 스마트타워 AMC-3501A'"
     ]
    }
   ],
   "source": [
    "for i in dfProdDataTotal.index:\n",
    "    df = dfProdDataTotal.loc[i,'가격']\n",
    "    try:\n",
    "        int(df)\n",
    "    except:\n",
    "        df = '품절'\n",
    "    \n"
   ]
  },
  {
   "cell_type": "code",
   "execution_count": 65,
   "metadata": {},
   "outputs": [
    {
     "data": {
      "text/html": [
       "<div>\n",
       "<style scoped>\n",
       "    .dataframe tbody tr th:only-of-type {\n",
       "        vertical-align: middle;\n",
       "    }\n",
       "\n",
       "    .dataframe tbody tr th {\n",
       "        vertical-align: top;\n",
       "    }\n",
       "\n",
       "    .dataframe thead th {\n",
       "        text-align: right;\n",
       "    }\n",
       "</style>\n",
       "<table border=\"1\" class=\"dataframe\">\n",
       "  <thead>\n",
       "    <tr style=\"text-align: right;\">\n",
       "      <th></th>\n",
       "      <th>제품명</th>\n",
       "      <th>제품 스펙</th>\n",
       "      <th>가격</th>\n",
       "      <th>등록월</th>\n",
       "    </tr>\n",
       "  </thead>\n",
       "  <tbody>\n",
       "  </tbody>\n",
       "</table>\n",
       "</div>"
      ],
      "text/plain": [
       "Empty DataFrame\n",
       "Columns: [제품명, 제품 스펙, 가격, 등록월]\n",
       "Index: []"
      ]
     },
     "execution_count": 65,
     "metadata": {},
     "output_type": "execute_result"
    }
   ],
   "source": [
    "condition = dfProdDataTotal['가격'] == '품절'\n",
    "dfProdDataTotal[condition]"
   ]
  }
 ],
 "metadata": {
  "kernelspec": {
   "display_name": "Python 3",
   "language": "python",
   "name": "python3"
  },
  "language_info": {
   "codemirror_mode": {
    "name": "ipython",
    "version": 3
   },
   "file_extension": ".py",
   "mimetype": "text/x-python",
   "name": "python",
   "nbconvert_exporter": "python",
   "pygments_lexer": "ipython3",
   "version": "3.12.2"
  }
 },
 "nbformat": 4,
 "nbformat_minor": 2
}
