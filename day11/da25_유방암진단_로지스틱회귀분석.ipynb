{
 "cells": [
  {
   "cell_type": "markdown",
   "metadata": {},
   "source": [
    "## 머신러닝 실습\n",
    "\n",
    "### 로지스틱회귀\n",
    "\n",
    "#### 개념이해\n",
    "- 선형 회귀로 구할 수 없는 분류에 사용하는 기법\n",
    "- S자 함수를 사용해(참|거짓) 분류\n",
    "\n",
    "    <img src= 'https://raw.githubusercontent.com/KangJeongTaek/bigdata-analysis-2024/main/images/ba025.jpg' width=\"400\">\n",
    "<!-- ![로지스틱 회귀](https://raw.githubusercontent.com/KangJeongTaek/bigdata-analysis-2024/main/images/ba025.jpg) -->\n",
    "\n",
    "##### 시그모이드(Sigmoid : S자형) 함수\n",
    "\n",
    "$y = \\frac{1}{1 + e^{ax + b}}$\n",
    "\n",
    "##### 로지스틱회귀모델의 성능평가지표\n",
    "- 선형회귀 : MSE(평균제곱오류),RMSE(평균제곱의 제곱근 오류),R^2 score(분산비율)\n",
    "- 로지스틱회귀 : 오차행렬에 기반한 정밀도, 재현율, F1스코어, ROC_AUC 스코어"
   ]
  },
  {
   "cell_type": "markdown",
   "metadata": {},
   "source": [
    "### 유방암진단 로지스틱회귀분석\n",
    "\n",
    "#### 데이터 수집\n",
    "\n",
    "##### Scikit-learn 내장 데이터\n"
   ]
  }
 ],
 "metadata": {
  "kernelspec": {
   "display_name": "Python 3",
   "language": "python",
   "name": "python3"
  },
  "language_info": {
   "name": "python",
   "version": "3.12.2"
  }
 },
 "nbformat": 4,
 "nbformat_minor": 2
}
