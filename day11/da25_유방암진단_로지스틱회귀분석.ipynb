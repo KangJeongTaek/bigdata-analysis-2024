{
 "cells": [
  {
   "cell_type": "markdown",
   "metadata": {},
   "source": [
    "## 머신러닝 실습\n",
    "\n",
    "### 로지스틱회귀\n",
    "\n",
    "#### 개념이해\n",
    "- 선형 회귀로 구할 수 없는 분류에 사용하는 기법\n",
    "- S자 함수를 사용해(참|거짓) 분류\n",
    "\n",
    "![로지스틱 회귀](https://raw.githubusercontent.com/KangJeongTaek/bigdata-analysis-2024/main/images/ba025.jpg)"
   ]
  },
  {
   "cell_type": "markdown",
   "metadata": {},
   "source": [
    "#### 유방암진단 로지스틱회귀분석\n",
    "\n",
    "##### 데이터 수집\n",
    "\n",
    "##### Scikit-learn 내장 데이터\n"
   ]
  }
 ],
 "metadata": {
  "kernelspec": {
   "display_name": "Python 3",
   "language": "python",
   "name": "python3"
  },
  "language_info": {
   "name": "python",
   "version": "3.12.2"
  }
 },
 "nbformat": 4,
 "nbformat_minor": 2
}
