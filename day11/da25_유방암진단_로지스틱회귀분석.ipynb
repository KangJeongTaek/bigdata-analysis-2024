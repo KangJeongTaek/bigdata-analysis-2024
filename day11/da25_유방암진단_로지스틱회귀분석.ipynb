{
 "cells": [
  {
   "cell_type": "markdown",
   "metadata": {},
   "source": [
    "## 머신러닝 실습\n",
    "\n",
    "### 로지스틱회귀\n",
    "\n",
    "#### 개념이해\n",
    "- 선형 회귀로 구할 수 없는 분류에 사용하는 기법\n",
    "- S자 함수를 사용해(참|거짓) 분류\n",
    "\n",
    "    <img src= 'https://raw.githubusercontent.com/KangJeongTaek/bigdata-analysis-2024/main/images/ba025.jpg' width=\"400\">\n",
    "<!-- ![로지스틱 회귀](https://raw.githubusercontent.com/KangJeongTaek/bigdata-analysis-2024/main/images/ba025.jpg) -->\n",
    "\n",
    "##### 시그모이드(Sigmoid : S자형) 함수\n",
    "\n",
    "$$y = \\frac{1}{1 + e^{ax + b}}$$\n",
    "\n",
    "##### 로지스틱회귀모델의 성능평가지표\n",
    "- 선형회귀 : MSE(평균제곱오류),RMSE(평균제곱의 제곱근 오류),R^2 score(분산비율)\n",
    "- 로지스틱회귀 : 오차행렬에 기반한 정밀도, 재현율, F1스코어, ROC_AUC 스코어\n",
    "\n",
    "##### 오차행렬\n",
    "\n",
    "<img src='https://raw.githubusercontent.com/KangJeongTaek/bigdata-analysis-2024/main/images/ba026.png' width=\"400\">\n",
    "\n",
    "- 정확도 : 정확하게 예측한 TN,TP 를 전체 데이터로 나눈 값 accuray_score, 오차행렬은 cofusion_matrix 함수 사용\n",
    "\n",
    "$$  정확도 = \\frac{(TP+TN)}{(TP+FP+FN+TN)}$$\n",
    "\n",
    "- 정밀도 : 예측이 Pisitive값에서의 참인 것(TP)의 비율 precision_score 함수 사용\n",
    "\n",
    "$$  정밀도 = \\frac{TP}{(TP+FP)}$$\n",
    "- 재현율 : 실제값이 Positive인 것중 참인 것(TP)의 비율 recall_score 함수 사용\n",
    "\n",
    "$$  재현율 = \\frac{TP}{(TP+FN)}$$\n",
    "\n",
    "- F1스코어 : 정밀도와 재현율을 결합한 평가지표 f1_score 함수 사용\n",
    "\n",
    "$$ F1스코어 = \\frac{2}{\\frac{1}{재현율}+\\frac{1}{정밀도}} = 2 \\times \\frac{정밀도 \\times재현율}{정밀도+재현율}$$\n",
    "- ROC(수신자 운영 곡선)기반 AUC(곡선 아래 면적)스코어 : FPR(실제 N인 데이터를 P로 거짓을 예측한 비율), TPR(실제 P인 데이터를 참으로 예측한 비율 (재현율)), roc_auc_score 함수 사용\n",
    "\n",
    "$$ FPR = \\frac{FP}{FP + TN} $$\n"
   ]
  },
  {
   "cell_type": "markdown",
   "metadata": {},
   "source": [
    "### 유방암진단 로지스틱회귀분석\n",
    "\n",
    "#### 데이터 수집\n",
    "\n",
    "##### Scikit-learn 내장 데이터\n"
   ]
  }
 ],
 "metadata": {
  "kernelspec": {
   "display_name": "Python 3",
   "language": "python",
   "name": "python3"
  },
  "language_info": {
   "codemirror_mode": {
    "name": "ipython",
    "version": 3
   },
   "file_extension": ".py",
   "mimetype": "text/x-python",
   "name": "python",
   "nbconvert_exporter": "python",
   "pygments_lexer": "ipython3",
   "version": "3.12.2"
  }
 },
 "nbformat": 4,
 "nbformat_minor": 2
}
