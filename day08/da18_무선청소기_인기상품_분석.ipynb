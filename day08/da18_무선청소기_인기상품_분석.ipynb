{
 "cells": [
  {
   "cell_type": "markdown",
   "metadata": {},
   "source": [
    "## 빅데이터 실습\n",
    "\n",
    "### 스타벅스매장 입지 분석\n",
    "\n",
    "#### 데이터 수집\n",
    "\n",
    "##### 데이터 전처리 마무리 하기\n"
   ]
  },
  {
   "cell_type": "code",
   "execution_count": 2,
   "metadata": {},
   "outputs": [],
   "source": [
    "# 라이브러리 등록\n",
    "from selenium import webdriver\n",
    "import time\n",
    "from bs4 import BeautifulSoup\n",
    "from urllib import parse\n",
    "from tqdm import tqdm\n",
    "import pandas as pd"
   ]
  },
  {
   "cell_type": "code",
   "execution_count": 5,
   "metadata": {},
   "outputs": [],
   "source": [
    "# 웹드라이버로 크롬 오픈\n",
    "url = r\"https://search.danawa.com/dsearch.php?k1=%EC%97%90%EC%96%B4%EB%A9%94%EC%9D%B4%EB%93%9C+%EC%8A%A4%EB%A7%88%ED%8A%B8%ED%83%80%EC%9B%8C&module=goods&act=dispMain\"\n",
    "driver = webdriver.Chrome()\n",
    "driver.get(url)\n",
    "time.sleep(5)"
   ]
  },
  {
   "cell_type": "code",
   "execution_count": 7,
   "metadata": {},
   "outputs": [],
   "source": [
    "html = driver.page_source\n",
    "soup = BeautifulSoup(html,'html.parser')"
   ]
  },
  {
   "cell_type": "code",
   "execution_count": 9,
   "metadata": {},
   "outputs": [],
   "source": [
    "prodItems = soup.select('ul.product_list > li.prod_item')"
   ]
  },
  {
   "cell_type": "code",
   "execution_count": 18,
   "metadata": {},
   "outputs": [
    {
     "data": {
      "text/plain": [
       "'에어메이드 스마트타워 AMC-3501A'"
      ]
     },
     "execution_count": 18,
     "metadata": {},
     "output_type": "execute_result"
    }
   ],
   "source": [
    "prodItems[0].select('p.prod_name > a')[0].text.strip()"
   ]
  },
  {
   "cell_type": "code",
   "execution_count": 20,
   "metadata": {},
   "outputs": [
    {
     "data": {
      "text/plain": [
       "'핸디스틱청소기 / 무선 / 흡입형 / 흡입력: 370W / 2024년형 / [구성] 먼지비움 / 충전 / UVC LED / 브러쉬: 바닥 / 침구 / 솔형 / 틈새 / 먼지봉투: 2.5L / [배터리] 사용시간: 40분(최대) / 충전시간: 5시간 / 분리형(1개) / 2500mAh / [청소] LED라이트 / BLDC모터 / [부가] 디스플레이표시 / 헤파필터 / 색상: 화이트 / 무게: 2.5kg / 크기(가로x세로x깊이): 252x1253x185mm'"
      ]
     },
     "execution_count": 20,
     "metadata": {},
     "output_type": "execute_result"
    }
   ],
   "source": [
    "prodItems[0].select('div.spec_list')[0].text.strip().replace('\\t','')"
   ]
  },
  {
   "cell_type": "code",
   "execution_count": 33,
   "metadata": {},
   "outputs": [
    {
     "data": {
      "text/plain": [
       "False"
      ]
     },
     "execution_count": 33,
     "metadata": {},
     "output_type": "execute_result"
    }
   ],
   "source": [
    "# 만약에 수가 아닌 문자열이 들어왔을 때는 False 이므로 추가 하지 않으면 된다.\n",
    "prodItems[0].select('input')[4].get('value').isnumeric()"
   ]
  },
  {
   "cell_type": "markdown",
   "metadata": {},
   "source": [
    "##### 다나와 무선 청소기 웹크롤링 다시\n",
    "- 가격 외에는 들어오지 않도록"
   ]
  },
  {
   "cell_type": "code",
   "execution_count": 2,
   "metadata": {},
   "outputs": [],
   "source": [
    "## 검색어랑 ,URL 페이지를 변경하면서 url 생성해주는 함수\n",
    "\n",
    "def get_search_page_url(keyword,page):\n",
    "    keyword = parse.quote(keyword)\n",
    "    url = f'https://search.danawa.com/dsearch.php?query={keyword}&originalQuery={keyword}&previousKeyword={keyword}&checkedInfo=N&volumeType=allvs&page={page}&' + \\\n",
    "        'limit=120&sort=saveDESC&list=list&boost=true&tab=goods&addDelivery=N&coupangMemberSort=N&mode=simple&isInitTireSmartFinder=N&' +\\\n",
    "    'recommendedSort=N&defaultUICategoryCode=10325109&defaultPhysicsCategoryCode=72%7C80%7C81%7C0&defaultVmTab=3138&defaultVaTab=1098867&isZeroPrice=Y&'+\\\n",
    "        'quickProductYN=N&priceUnitSort=N&priceUnitSortOrder=A'\n",
    "    return url\n"
   ]
  },
  {
   "cell_type": "code",
   "execution_count": 3,
   "metadata": {},
   "outputs": [],
   "source": [
    "## 상품 정보 추출 함수\n",
    "def getProdItems(prodItems):\n",
    "    prodData = []\n",
    "\n",
    "    for product in prodItems:\n",
    "        try:\n",
    "            product_name = product.select('p.prod_name >a')[0].text.strip()\n",
    "            product_spec = product.select('div.spec_list')[0].text.strip().replace('\\t','')\n",
    "            if product.select('input')[1].get('value').isdecimal() == True:\n",
    "                product_price = product.select('input')[1].get('value')\n",
    "            else:\n",
    "                product_price = 0 # 문자열 들어온 것을 막음\n",
    "            product_reg_mon = product.select('div.prod_sub_meta> dl>dd')[0].text.strip()\n",
    "            prodData.append([product_name,product_spec,product_price,product_reg_mon])\n",
    "        except:\n",
    "            pass\n",
    "    return prodData"
   ]
  },
  {
   "cell_type": "code",
   "execution_count": 53,
   "metadata": {},
   "outputs": [
    {
     "name": "stderr",
     "output_type": "stream",
     "text": [
      "100%|██████████| 20/20 [04:17<00:00, 12.85s/it]\n"
     ]
    }
   ],
   "source": [
    "## 여러 페이지 검색후 크롤링하는 작업\n",
    "\n",
    "driver = webdriver.Chrome()\n",
    "\n",
    "# 암묵적으로 맵 자원 로드를 위해서 3초 정도 대기한다.\n",
    "driver.implicitly_wait(3)\n",
    "\n",
    "keyword = '무선청소기'\n",
    "startPage = 1\n",
    "totalPage = 20\n",
    "# 최종 저장 리스트\n",
    "prodDataTotal = []\n",
    "\n",
    "for page in tqdm(range(startPage,totalPage+1)):\n",
    "    url = get_search_page_url(keyword,page)\n",
    "    driver.get(url)\n",
    "    #페이지 로딩이 완료될 때 까지 5초 대기\n",
    "    time.sleep(5)\n",
    "    \n",
    "    # 현재 페이지 url 가져오기\n",
    "    html = driver.page_source\n",
    "    soup = BeautifulSoup(html,'html.parser')\n",
    "\n",
    "    # 상품 정보 추출\n",
    "    prodItems = soup.select('ul.product_list > li.prod_item')\n",
    "    prodItemList = getProdItems(prodItems)\n",
    "\n",
    "    prodDataTotal += prodItemList"
   ]
  },
  {
   "cell_type": "code",
   "execution_count": 54,
   "metadata": {},
   "outputs": [],
   "source": [
    "dfProDataTotal = pd.DataFrame(prodDataTotal)"
   ]
  },
  {
   "cell_type": "code",
   "execution_count": 58,
   "metadata": {},
   "outputs": [],
   "source": [
    "dfProDataTotal.columns = ['제품명','제품스펙','최저가','등록월']"
   ]
  },
  {
   "cell_type": "code",
   "execution_count": 59,
   "metadata": {},
   "outputs": [],
   "source": [
    "dfProDataTotal.to_excel('./data/다나와_무선청소기_결과.xlsx',index=False)"
   ]
  },
  {
   "cell_type": "markdown",
   "metadata": {},
   "source": [
    "##### 크롤링 데이터 전처리"
   ]
  },
  {
   "cell_type": "code",
   "execution_count": 8,
   "metadata": {},
   "outputs": [],
   "source": [
    "dfProdDanawa = pd.read_excel('./data/다나와_무선청소기_결과_최종.xlsx')"
   ]
  },
  {
   "cell_type": "code",
   "execution_count": 7,
   "metadata": {},
   "outputs": [
    {
     "data": {
      "text/html": [
       "<div>\n",
       "<style scoped>\n",
       "    .dataframe tbody tr th:only-of-type {\n",
       "        vertical-align: middle;\n",
       "    }\n",
       "\n",
       "    .dataframe tbody tr th {\n",
       "        vertical-align: top;\n",
       "    }\n",
       "\n",
       "    .dataframe thead th {\n",
       "        text-align: right;\n",
       "    }\n",
       "</style>\n",
       "<table border=\"1\" class=\"dataframe\">\n",
       "  <thead>\n",
       "    <tr style=\"text-align: right;\">\n",
       "      <th></th>\n",
       "      <th>제품명</th>\n",
       "      <th>제품스펙</th>\n",
       "      <th>최저가</th>\n",
       "      <th>등록월</th>\n",
       "    </tr>\n",
       "  </thead>\n",
       "  <tbody>\n",
       "  </tbody>\n",
       "</table>\n",
       "</div>"
      ],
      "text/plain": [
       "Empty DataFrame\n",
       "Columns: [제품명, 제품스펙, 최저가, 등록월]\n",
       "Index: []"
      ]
     },
     "execution_count": 7,
     "metadata": {},
     "output_type": "execute_result"
    }
   ],
   "source": [
    "# 결측치 검색\n",
    "condition = dfProdDanawa['제품스펙'].isnull()\n",
    "\n",
    "dfProdDanawa[condition]"
   ]
  },
  {
   "cell_type": "code",
   "execution_count": 27,
   "metadata": {},
   "outputs": [],
   "source": [
    "# 결측치를 가진 행을 삭제\n",
    "dfProdDanawa.dropna(axis=0,inplace=True)"
   ]
  },
  {
   "cell_type": "code",
   "execution_count": 30,
   "metadata": {},
   "outputs": [
    {
     "data": {
      "text/html": [
       "<div>\n",
       "<style scoped>\n",
       "    .dataframe tbody tr th:only-of-type {\n",
       "        vertical-align: middle;\n",
       "    }\n",
       "\n",
       "    .dataframe tbody tr th {\n",
       "        vertical-align: top;\n",
       "    }\n",
       "\n",
       "    .dataframe thead th {\n",
       "        text-align: right;\n",
       "    }\n",
       "</style>\n",
       "<table border=\"1\" class=\"dataframe\">\n",
       "  <thead>\n",
       "    <tr style=\"text-align: right;\">\n",
       "      <th></th>\n",
       "      <th>제품명</th>\n",
       "      <th>제품스펙</th>\n",
       "      <th>최저가</th>\n",
       "      <th>등록월</th>\n",
       "    </tr>\n",
       "  </thead>\n",
       "  <tbody>\n",
       "    <tr>\n",
       "      <th>2114</th>\n",
       "      <td>미니센 무선 소형 청소기 MNC-100 노즐 세트</td>\n",
       "      <td>차량용청소기 / 전용브러쉬</td>\n",
       "      <td>7000</td>\n",
       "      <td>2024.03.</td>\n",
       "    </tr>\n",
       "    <tr>\n",
       "      <th>2115</th>\n",
       "      <td>미니센 무선 소형 청소기 MNC-100 먼지통</td>\n",
       "      <td>차량용청소기 / 먼지통</td>\n",
       "      <td>7000</td>\n",
       "      <td>2024.03.</td>\n",
       "    </tr>\n",
       "    <tr>\n",
       "      <th>2116</th>\n",
       "      <td>프리라벨 2in1 무선 진공 청소기 LS-2000 헤파필터</td>\n",
       "      <td>차량용청소기 / 필터 / [필터] 헤파필터</td>\n",
       "      <td>3500</td>\n",
       "      <td>2024.03.</td>\n",
       "    </tr>\n",
       "    <tr>\n",
       "      <th>2118</th>\n",
       "      <td>포쉬 워시젯 V2 WJ200</td>\n",
       "      <td>침구청소기 / 핸디형 / 무선 / 사용시간: 25분(최대) / [기능] 청소모드: ...</td>\n",
       "      <td>219000</td>\n",
       "      <td>2024.02.</td>\n",
       "    </tr>\n",
       "    <tr>\n",
       "      <th>2119</th>\n",
       "      <td>업킵 MJ-BC779</td>\n",
       "      <td>침구청소기 / 핸디형 / 무선 / [기능] 청소모드: UV살균 / 속도조절 / 헤파...</td>\n",
       "      <td>89900</td>\n",
       "      <td>2024.02.</td>\n",
       "    </tr>\n",
       "  </tbody>\n",
       "</table>\n",
       "</div>"
      ],
      "text/plain": [
       "                                   제품명  \\\n",
       "2114       미니센 무선 소형 청소기 MNC-100 노즐 세트   \n",
       "2115         미니센 무선 소형 청소기 MNC-100 먼지통   \n",
       "2116  프리라벨 2in1 무선 진공 청소기 LS-2000 헤파필터   \n",
       "2118                   포쉬 워시젯 V2 WJ200   \n",
       "2119                       업킵 MJ-BC779   \n",
       "\n",
       "                                                   제품스펙     최저가       등록월  \n",
       "2114                                     차량용청소기 / 전용브러쉬    7000  2024.03.  \n",
       "2115                                       차량용청소기 / 먼지통    7000  2024.03.  \n",
       "2116                            차량용청소기 / 필터 / [필터] 헤파필터    3500  2024.03.  \n",
       "2118  침구청소기 / 핸디형 / 무선 / 사용시간: 25분(최대) / [기능] 청소모드: ...  219000  2024.02.  \n",
       "2119  침구청소기 / 핸디형 / 무선 / [기능] 청소모드: UV살균 / 속도조절 / 헤파...   89900  2024.02.  "
      ]
     },
     "execution_count": 30,
     "metadata": {},
     "output_type": "execute_result"
    }
   ],
   "source": [
    "dfProdDanawa.tail()"
   ]
  },
  {
   "cell_type": "code",
   "execution_count": 9,
   "metadata": {},
   "outputs": [
    {
     "name": "stdout",
     "output_type": "stream",
     "text": [
      "<class 'pandas.core.frame.DataFrame'>\n",
      "Index: 0 entries\n",
      "Data columns (total 4 columns):\n",
      " #   Column  Non-Null Count  Dtype \n",
      "---  ------  --------------  ----- \n",
      " 0   제품명     0 non-null      object\n",
      " 1   제품스펙    0 non-null      object\n",
      " 2   최저가     0 non-null      int64 \n",
      " 3   등록월     0 non-null      object\n",
      "dtypes: int64(1), object(3)\n",
      "memory usage: 0.0+ bytes\n"
     ]
    }
   ],
   "source": [
    "condition = dfProdDanawa['최저가'] == 0\n",
    "dfProdDanawa[condition].info()"
   ]
  },
  {
   "cell_type": "code",
   "execution_count": 33,
   "metadata": {},
   "outputs": [],
   "source": [
    "#최저가가 0이 아닌 행들만 다시 저장\n",
    "dfProdDanawa = dfProdDanawa[condition != True]"
   ]
  },
  {
   "cell_type": "code",
   "execution_count": 38,
   "metadata": {},
   "outputs": [],
   "source": [
    "# 결측치와 이상치를 제거하면 인덱스가 꼬이므로 인덱스를 다시 쵝화\n",
    "dfProdDanawa.reset_index(drop=True,inplace=True)\n"
   ]
  },
  {
   "cell_type": "code",
   "execution_count": 10,
   "metadata": {},
   "outputs": [
    {
     "name": "stdout",
     "output_type": "stream",
     "text": [
      "<class 'pandas.core.frame.DataFrame'>\n",
      "RangeIndex: 2057 entries, 0 to 2056\n",
      "Data columns (total 4 columns):\n",
      " #   Column  Non-Null Count  Dtype \n",
      "---  ------  --------------  ----- \n",
      " 0   제품명     2057 non-null   object\n",
      " 1   제품스펙    2057 non-null   object\n",
      " 2   최저가     2057 non-null   int64 \n",
      " 3   등록월     2057 non-null   object\n",
      "dtypes: int64(1), object(3)\n",
      "memory usage: 64.4+ KB\n"
     ]
    }
   ],
   "source": [
    "# 결측치, 이상치를 제거하고 인덱스를 리셋시킨 최종 DataFrame\n",
    "dfProdDanawa.info()"
   ]
  },
  {
   "cell_type": "code",
   "execution_count": 49,
   "metadata": {},
   "outputs": [
    {
     "data": {
      "text/plain": [
       "['LG전자', '오브제컬렉션 코드제로 A9S AX9884']"
      ]
     },
     "execution_count": 49,
     "metadata": {},
     "output_type": "execute_result"
    }
   ],
   "source": [
    "# 회사명, 모델명을 분리 split(' ',n) n은 자를 기준의 순번\n",
    "dfProdDanawa['제품명'][0].split(' ',1)"
   ]
  },
  {
   "cell_type": "code",
   "execution_count": 59,
   "metadata": {},
   "outputs": [],
   "source": [
    "comList = []\n",
    "modelList = []\n",
    "\n",
    "for temp in dfProdDanawa['제품명']:\n",
    "    titles = temp.split(' ',1)\n",
    "    if(len(titles))> 1:\n",
    "        comList.append(titles[0]) #회사명\n",
    "        modelList.append(titles[1]) #모델명\n",
    "    else:\n",
    "        comList.append('') # 회사명이 없음\n",
    "        modelList.append(titles[0]) # 모델명"
   ]
  },
  {
   "cell_type": "code",
   "execution_count": 59,
   "metadata": {},
   "outputs": [
    {
     "data": {
      "text/plain": [
       "997"
      ]
     },
     "execution_count": 59,
     "metadata": {},
     "output_type": "execute_result"
    }
   ],
   "source": [
    "comList.index('다기능')"
   ]
  },
  {
   "cell_type": "code",
   "execution_count": 97,
   "metadata": {},
   "outputs": [],
   "source": [
    "specList = dfProdDanawa.loc[1,'제품스펙'].split(' / ')"
   ]
  },
  {
   "cell_type": "code",
   "execution_count": 100,
   "metadata": {},
   "outputs": [
    {
     "data": {
      "text/plain": [
       "'핸디스틱청소기'"
      ]
     },
     "execution_count": 100,
     "metadata": {},
     "output_type": "execute_result"
    }
   ],
   "source": [
    "specList"
   ]
  },
  {
   "cell_type": "code",
   "execution_count": 106,
   "metadata": {},
   "outputs": [
    {
     "name": "stdout",
     "output_type": "stream",
     "text": [
      "1시간(최대)\n",
      "220W\n"
     ]
    }
   ],
   "source": [
    "useTime = ''\n",
    "sunctionPow = ''\n",
    "for spec in specList:\n",
    "    if '사용시간' in spec:\n",
    "        useTime = spec\n",
    "    elif '흡입력' in spec:\n",
    "        sunctionPow = spec\n",
    "\n",
    "print(useTime.split(\":\")[1].strip())\n",
    "print(sunctionPow.split(\":\")[1].strip())"
   ]
  },
  {
   "cell_type": "code",
   "execution_count": 11,
   "metadata": {},
   "outputs": [],
   "source": [
    "## 위의 테스트를 기반으로 카테고리, 사용시간, 흡입력 추출\n",
    "categoryList = []\n",
    "useTimeList = []\n",
    "sunctionPowList = []\n",
    "\n",
    "for spec in dfProdDanawa['제품스펙']:\n",
    "    specList = spec.split(' / ')\n",
    "\n",
    "    #카테고리\n",
    "    category = specList[0]\n",
    "    categoryList.append(category)\n",
    "\n",
    "    # 사용시간과 흡입력 추출\n",
    "    useTimeVal = None\n",
    "    sunctionPowVal = None\n",
    "\n",
    "    for temp in specList:\n",
    "        if '사용시간' in temp:\n",
    "            useTimeVal = temp.replace('[배터리] ','') #'[배터리] '없애기\n",
    "        elif '흡입력' in temp:\n",
    "            sunctionPowVal = temp\n",
    "\n",
    "    # 끝난 다음에도 사용시간, 흡입력이 None이면 스펙에 찾을 값이 없었음.\n",
    "    if useTimeVal != None:\n",
    "        useTIme = useTimeVal.split(\" \")[1].strip().replace('(최대)','') # (최대) 삭제\n",
    "    else:\n",
    "        useTIme = ''\n",
    "\n",
    "    if sunctionPowVal != None:\n",
    "        sunctionPow = sunctionPowVal.split(\" \")[1].strip()\n",
    "    else:\n",
    "        sunctionPow = ''\n",
    "    \n",
    "    useTimeList.append(useTIme)\n",
    "    sunctionPowList.append(sunctionPow)"
   ]
  },
  {
   "cell_type": "code",
   "execution_count": 55,
   "metadata": {},
   "outputs": [
    {
     "data": {
      "text/plain": [
       "2057"
      ]
     },
     "execution_count": 55,
     "metadata": {},
     "output_type": "execute_result"
    }
   ],
   "source": [
    "len(useTimeList)"
   ]
  },
  {
   "cell_type": "code",
   "execution_count": 37,
   "metadata": {},
   "outputs": [],
   "source": [
    "## 사용시간 단위 통일\n",
    "# time = '1시간', '30분', '1시간 20분'\n",
    "def convertHourToMin(time):\n",
    "    try:\n",
    "        if '시간' in time:\n",
    "            hour = time.split('시간')[0]\n",
    "            minute= 0\n",
    "            if '분' in time:\n",
    "                minute = time.split('시간')[-1].split('분')[0]\n",
    "        elif '분' in time:\n",
    "            hour = 0\n",
    "            minute = time.split('분')[0]\n",
    "        return int(hour) * 60 + int(minute)\n",
    "    except:\n",
    "        return None"
   ]
  },
  {
   "cell_type": "code",
   "execution_count": 39,
   "metadata": {},
   "outputs": [],
   "source": [
    "newUseTimeList = []\n",
    "for time in useTimeList:\n",
    "    value = convertHourToMin(time)\n",
    "    newUseTimeList.append(value)"
   ]
  },
  {
   "cell_type": "code",
   "execution_count": 54,
   "metadata": {},
   "outputs": [
    {
     "data": {
      "text/plain": [
       "2057"
      ]
     },
     "execution_count": 54,
     "metadata": {},
     "output_type": "execute_result"
    }
   ],
   "source": [
    "len(newUseTimeList)"
   ]
  },
  {
   "cell_type": "code",
   "execution_count": 50,
   "metadata": {},
   "outputs": [],
   "source": [
    "##  흡입력 단위 1W = 1AW = 100pa\n",
    "def converPow(value):\n",
    "    try:\n",
    "        value = value.upper()\n",
    "        if 'AW' in value or 'W' in value:\n",
    "            result = value.replace('A','').replace('W','').replace(',','') # A와 W삭제 쉼표 삭제\n",
    "            result = int(result)\n",
    "        elif 'PA' in value:\n",
    "            result = value.replace('PA','').replace(',','') # PA 삭제 쉼표 삭제\n",
    "            result = int(result) // 100\n",
    "        else:\n",
    "            result = None\n",
    "        return result\n",
    "    except:\n",
    "        return None\n"
   ]
  },
  {
   "cell_type": "code",
   "execution_count": 56,
   "metadata": {},
   "outputs": [],
   "source": [
    "newSuctionList =  []\n",
    "\n",
    "for power in sunctionPowList:\n",
    "    value = converPow(power)\n",
    "    newSuctionList.append(value)"
   ]
  },
  {
   "cell_type": "code",
   "execution_count": 57,
   "metadata": {},
   "outputs": [
    {
     "data": {
      "text/plain": [
       "2057"
      ]
     },
     "execution_count": 57,
     "metadata": {},
     "output_type": "execute_result"
    }
   ],
   "source": [
    "len(newSuctionList)"
   ]
  },
  {
   "cell_type": "code",
   "execution_count": 60,
   "metadata": {},
   "outputs": [],
   "source": [
    "# 최종 데이터 엑셀 저장\n",
    "dfLast = pd.DataFrame()\n",
    "dfLast['카테고리'] = categoryList\n",
    "dfLast['회사명'] = comList\n",
    "dfLast['모델명'] = modelList\n",
    "dfLast['가격'] = dfProdDanawa['최저가']\n",
    "dfLast['사용시간'] = newUseTimeList\n",
    "dfLast['흡입력'] = newSuctionList"
   ]
  },
  {
   "cell_type": "code",
   "execution_count": 61,
   "metadata": {},
   "outputs": [
    {
     "data": {
      "text/html": [
       "<div>\n",
       "<style scoped>\n",
       "    .dataframe tbody tr th:only-of-type {\n",
       "        vertical-align: middle;\n",
       "    }\n",
       "\n",
       "    .dataframe tbody tr th {\n",
       "        vertical-align: top;\n",
       "    }\n",
       "\n",
       "    .dataframe thead th {\n",
       "        text-align: right;\n",
       "    }\n",
       "</style>\n",
       "<table border=\"1\" class=\"dataframe\">\n",
       "  <thead>\n",
       "    <tr style=\"text-align: right;\">\n",
       "      <th></th>\n",
       "      <th>카테고리</th>\n",
       "      <th>회사명</th>\n",
       "      <th>모델명</th>\n",
       "      <th>가격</th>\n",
       "      <th>사용시간</th>\n",
       "      <th>흡입력</th>\n",
       "    </tr>\n",
       "  </thead>\n",
       "  <tbody>\n",
       "    <tr>\n",
       "      <th>2052</th>\n",
       "      <td>차량용청소기</td>\n",
       "      <td>미니센</td>\n",
       "      <td>무선 소형 청소기 MNC-100 노즐 세트</td>\n",
       "      <td>7000</td>\n",
       "      <td>NaN</td>\n",
       "      <td>NaN</td>\n",
       "    </tr>\n",
       "    <tr>\n",
       "      <th>2053</th>\n",
       "      <td>차량용청소기</td>\n",
       "      <td>미니센</td>\n",
       "      <td>무선 소형 청소기 MNC-100 먼지통</td>\n",
       "      <td>7000</td>\n",
       "      <td>NaN</td>\n",
       "      <td>NaN</td>\n",
       "    </tr>\n",
       "    <tr>\n",
       "      <th>2054</th>\n",
       "      <td>차량용청소기</td>\n",
       "      <td>프리라벨</td>\n",
       "      <td>2in1 무선 진공 청소기 LS-2000 헤파필터</td>\n",
       "      <td>3500</td>\n",
       "      <td>NaN</td>\n",
       "      <td>NaN</td>\n",
       "    </tr>\n",
       "    <tr>\n",
       "      <th>2055</th>\n",
       "      <td>침구청소기</td>\n",
       "      <td>포쉬</td>\n",
       "      <td>워시젯 V2 WJ200</td>\n",
       "      <td>219000</td>\n",
       "      <td>25.0</td>\n",
       "      <td>NaN</td>\n",
       "    </tr>\n",
       "    <tr>\n",
       "      <th>2056</th>\n",
       "      <td>침구청소기</td>\n",
       "      <td>업킵</td>\n",
       "      <td>MJ-BC779</td>\n",
       "      <td>89900</td>\n",
       "      <td>NaN</td>\n",
       "      <td>NaN</td>\n",
       "    </tr>\n",
       "  </tbody>\n",
       "</table>\n",
       "</div>"
      ],
      "text/plain": [
       "        카테고리   회사명                          모델명      가격  사용시간  흡입력\n",
       "2052  차량용청소기   미니센      무선 소형 청소기 MNC-100 노즐 세트    7000   NaN  NaN\n",
       "2053  차량용청소기   미니센        무선 소형 청소기 MNC-100 먼지통    7000   NaN  NaN\n",
       "2054  차량용청소기  프리라벨  2in1 무선 진공 청소기 LS-2000 헤파필터    3500   NaN  NaN\n",
       "2055   침구청소기    포쉬                 워시젯 V2 WJ200  219000  25.0  NaN\n",
       "2056   침구청소기    업킵                     MJ-BC779   89900   NaN  NaN"
      ]
     },
     "execution_count": 61,
     "metadata": {},
     "output_type": "execute_result"
    }
   ],
   "source": [
    "dfLast.tail()"
   ]
  },
  {
   "cell_type": "code",
   "execution_count": null,
   "metadata": {},
   "outputs": [],
   "source": [
    "dfLast.to_excel('./data/다나와_무선청소기_전처리결과.xlsx',index=False)"
   ]
  },
  {
   "cell_type": "code",
   "execution_count": 2,
   "metadata": {},
   "outputs": [],
   "source": [
    "dfCleaner = pd.read_excel('./data/다나와_무선청소기_전처리결과.xlsx')"
   ]
  },
  {
   "cell_type": "markdown",
   "metadata": {},
   "source": [
    "##### 결측치와 이상치 수정"
   ]
  },
  {
   "cell_type": "code",
   "execution_count": 3,
   "metadata": {},
   "outputs": [
    {
     "data": {
      "text/plain": [
       "카테고리       0\n",
       "회사명        0\n",
       "모델명        0\n",
       "가격         0\n",
       "사용시간     401\n",
       "흡입력     1005\n",
       "dtype: int64"
      ]
     },
     "execution_count": 3,
     "metadata": {},
     "output_type": "execute_result"
    }
   ],
   "source": [
    "dfCleaner.isnull().sum()"
   ]
  },
  {
   "cell_type": "code",
   "execution_count": 4,
   "metadata": {},
   "outputs": [
    {
     "data": {
      "text/html": [
       "<div>\n",
       "<style scoped>\n",
       "    .dataframe tbody tr th:only-of-type {\n",
       "        vertical-align: middle;\n",
       "    }\n",
       "\n",
       "    .dataframe tbody tr th {\n",
       "        vertical-align: top;\n",
       "    }\n",
       "\n",
       "    .dataframe thead th {\n",
       "        text-align: right;\n",
       "    }\n",
       "</style>\n",
       "<table border=\"1\" class=\"dataframe\">\n",
       "  <thead>\n",
       "    <tr style=\"text-align: right;\">\n",
       "      <th></th>\n",
       "      <th>카테고리</th>\n",
       "      <th>회사명</th>\n",
       "      <th>모델명</th>\n",
       "      <th>가격</th>\n",
       "      <th>사용시간</th>\n",
       "      <th>흡입력</th>\n",
       "    </tr>\n",
       "  </thead>\n",
       "  <tbody>\n",
       "  </tbody>\n",
       "</table>\n",
       "</div>"
      ],
      "text/plain": [
       "Empty DataFrame\n",
       "Columns: [카테고리, 회사명, 모델명, 가격, 사용시간, 흡입력]\n",
       "Index: []"
      ]
     },
     "execution_count": 4,
     "metadata": {},
     "output_type": "execute_result"
    }
   ],
   "source": [
    "condition = dfCleaner['회사명'].isnull()\n",
    "\n",
    "dfCleaner[condition]"
   ]
  },
  {
   "cell_type": "code",
   "execution_count": 5,
   "metadata": {},
   "outputs": [],
   "source": [
    "## 사용 시간, 흡입력 NaN인 것은 전부 0으로 채워넣기\n",
    "dfCleaner = dfCleaner.fillna(0)"
   ]
  },
  {
   "cell_type": "code",
   "execution_count": 6,
   "metadata": {},
   "outputs": [
    {
     "name": "stdout",
     "output_type": "stream",
     "text": [
      "<class 'pandas.core.frame.DataFrame'>\n",
      "RangeIndex: 2057 entries, 0 to 2056\n",
      "Data columns (total 6 columns):\n",
      " #   Column  Non-Null Count  Dtype  \n",
      "---  ------  --------------  -----  \n",
      " 0   카테고리    2057 non-null   object \n",
      " 1   회사명     2057 non-null   object \n",
      " 2   모델명     2057 non-null   object \n",
      " 3   가격      2057 non-null   int64  \n",
      " 4   사용시간    2057 non-null   float64\n",
      " 5   흡입력     2057 non-null   float64\n",
      "dtypes: float64(2), int64(1), object(3)\n",
      "memory usage: 96.6+ KB\n"
     ]
    }
   ],
   "source": [
    "dfCleaner.info(0)"
   ]
  },
  {
   "cell_type": "markdown",
   "metadata": {},
   "source": [
    "##### 무선 청소기 분석"
   ]
  },
  {
   "cell_type": "code",
   "execution_count": null,
   "metadata": {},
   "outputs": [],
   "source": [
    "# 카테고리별 제품 개수 -> 워드 클라우드 가능\n",
    "dfCleaner['카테고리'].value_counts()"
   ]
  },
  {
   "cell_type": "code",
   "execution_count": null,
   "metadata": {},
   "outputs": [],
   "source": [
    "dfCleaner['회사명'].value_counts()"
   ]
  },
  {
   "cell_type": "code",
   "execution_count": 24,
   "metadata": {},
   "outputs": [],
   "source": [
    "## 핸드 스틱 청소기만 선택해서 분석\n",
    "condition = dfCleaner['카테고리'].isin(['핸디스틱청소기','핸디스틱청소기+로봇청소기','스틱청소기','진공청소기'])\n",
    "dfDataFinal = dfCleaner[condition]"
   ]
  },
  {
   "cell_type": "code",
   "execution_count": 25,
   "metadata": {},
   "outputs": [],
   "source": [
    "dfDataFinal.to_excel('./data/2_danawa_data_final.xlsx',index=False)"
   ]
  },
  {
   "cell_type": "markdown",
   "metadata": {},
   "source": [
    "##### 분석용 재로드"
   ]
  },
  {
   "cell_type": "code",
   "execution_count": 3,
   "metadata": {},
   "outputs": [],
   "source": [
    "dfDataFinal = pd.read_excel('./data/2_danawa_data_final.xlsx')"
   ]
  },
  {
   "cell_type": "code",
   "execution_count": 27,
   "metadata": {},
   "outputs": [
    {
     "data": {
      "text/html": [
       "<div>\n",
       "<style scoped>\n",
       "    .dataframe tbody tr th:only-of-type {\n",
       "        vertical-align: middle;\n",
       "    }\n",
       "\n",
       "    .dataframe tbody tr th {\n",
       "        vertical-align: top;\n",
       "    }\n",
       "\n",
       "    .dataframe thead th {\n",
       "        text-align: right;\n",
       "    }\n",
       "</style>\n",
       "<table border=\"1\" class=\"dataframe\">\n",
       "  <thead>\n",
       "    <tr style=\"text-align: right;\">\n",
       "      <th></th>\n",
       "      <th>카테고리</th>\n",
       "      <th>회사명</th>\n",
       "      <th>모델명</th>\n",
       "      <th>가격</th>\n",
       "      <th>사용시간</th>\n",
       "      <th>흡입력</th>\n",
       "    </tr>\n",
       "  </thead>\n",
       "  <tbody>\n",
       "    <tr>\n",
       "      <th>1200</th>\n",
       "      <td>진공청소기</td>\n",
       "      <td>LG전자</td>\n",
       "      <td>코드제로 T9 T960D</td>\n",
       "      <td>1523960</td>\n",
       "      <td>0</td>\n",
       "      <td>250</td>\n",
       "    </tr>\n",
       "    <tr>\n",
       "      <th>1201</th>\n",
       "      <td>진공청소기</td>\n",
       "      <td>LG전자</td>\n",
       "      <td>코드제로 싸이킹 K95</td>\n",
       "      <td>1359230</td>\n",
       "      <td>40</td>\n",
       "      <td>0</td>\n",
       "    </tr>\n",
       "    <tr>\n",
       "      <th>1202</th>\n",
       "      <td>진공청소기</td>\n",
       "      <td>마끼다</td>\n",
       "      <td>DCL501</td>\n",
       "      <td>761200</td>\n",
       "      <td>0</td>\n",
       "      <td>66</td>\n",
       "    </tr>\n",
       "    <tr>\n",
       "      <th>1203</th>\n",
       "      <td>진공청소기</td>\n",
       "      <td>LG전자</td>\n",
       "      <td>코드제로 T9 T960D</td>\n",
       "      <td>1523960</td>\n",
       "      <td>0</td>\n",
       "      <td>250</td>\n",
       "    </tr>\n",
       "    <tr>\n",
       "      <th>1204</th>\n",
       "      <td>진공청소기</td>\n",
       "      <td>LG전자</td>\n",
       "      <td>코드제로 싸이킹 K95</td>\n",
       "      <td>1359230</td>\n",
       "      <td>40</td>\n",
       "      <td>0</td>\n",
       "    </tr>\n",
       "  </tbody>\n",
       "</table>\n",
       "</div>"
      ],
      "text/plain": [
       "       카테고리   회사명            모델명       가격  사용시간  흡입력\n",
       "1200  진공청소기  LG전자  코드제로 T9 T960D  1523960     0  250\n",
       "1201  진공청소기  LG전자   코드제로 싸이킹 K95  1359230    40    0\n",
       "1202  진공청소기   마끼다         DCL501   761200     0   66\n",
       "1203  진공청소기  LG전자  코드제로 T9 T960D  1523960     0  250\n",
       "1204  진공청소기  LG전자   코드제로 싸이킹 K95  1359230    40    0"
      ]
     },
     "execution_count": 27,
     "metadata": {},
     "output_type": "execute_result"
    }
   ],
   "source": [
    "dfDataFinal.tail()"
   ]
  },
  {
   "cell_type": "code",
   "execution_count": 6,
   "metadata": {},
   "outputs": [],
   "source": [
    "# 흡입력 기준으로 정렬 ascending= True(오름차순), False(내림차순)\n",
    "suctionToplist = dfDataFinal.sort_values(['흡입력'],ascending=False)"
   ]
  },
  {
   "cell_type": "code",
   "execution_count": 7,
   "metadata": {},
   "outputs": [
    {
     "data": {
      "text/html": [
       "<div>\n",
       "<style scoped>\n",
       "    .dataframe tbody tr th:only-of-type {\n",
       "        vertical-align: middle;\n",
       "    }\n",
       "\n",
       "    .dataframe tbody tr th {\n",
       "        vertical-align: top;\n",
       "    }\n",
       "\n",
       "    .dataframe thead th {\n",
       "        text-align: right;\n",
       "    }\n",
       "</style>\n",
       "<table border=\"1\" class=\"dataframe\">\n",
       "  <thead>\n",
       "    <tr style=\"text-align: right;\">\n",
       "      <th></th>\n",
       "      <th>카테고리</th>\n",
       "      <th>회사명</th>\n",
       "      <th>모델명</th>\n",
       "      <th>가격</th>\n",
       "      <th>사용시간</th>\n",
       "      <th>흡입력</th>\n",
       "    </tr>\n",
       "  </thead>\n",
       "  <tbody>\n",
       "    <tr>\n",
       "      <th>104</th>\n",
       "      <td>핸디스틱청소기</td>\n",
       "      <td>아이룸</td>\n",
       "      <td>윈드포스 F9</td>\n",
       "      <td>178000</td>\n",
       "      <td>40</td>\n",
       "      <td>420</td>\n",
       "    </tr>\n",
       "    <tr>\n",
       "      <th>334</th>\n",
       "      <td>핸디스틱청소기</td>\n",
       "      <td>비브르</td>\n",
       "      <td>V38 스페셜 에디션</td>\n",
       "      <td>195000</td>\n",
       "      <td>50</td>\n",
       "      <td>410</td>\n",
       "    </tr>\n",
       "    <tr>\n",
       "      <th>13</th>\n",
       "      <td>핸디스틱청소기</td>\n",
       "      <td>DIBEA</td>\n",
       "      <td>ALLNEW29000 PLUS</td>\n",
       "      <td>236550</td>\n",
       "      <td>50</td>\n",
       "      <td>400</td>\n",
       "    </tr>\n",
       "    <tr>\n",
       "      <th>128</th>\n",
       "      <td>핸디스틱청소기</td>\n",
       "      <td>DIBEA</td>\n",
       "      <td>ALLNEW22000+</td>\n",
       "      <td>199000</td>\n",
       "      <td>50</td>\n",
       "      <td>390</td>\n",
       "    </tr>\n",
       "    <tr>\n",
       "      <th>143</th>\n",
       "      <td>핸디스틱청소기</td>\n",
       "      <td>DIBEA</td>\n",
       "      <td>ALLNEW29000</td>\n",
       "      <td>249000</td>\n",
       "      <td>48</td>\n",
       "      <td>390</td>\n",
       "    </tr>\n",
       "  </tbody>\n",
       "</table>\n",
       "</div>"
      ],
      "text/plain": [
       "        카테고리    회사명               모델명      가격  사용시간  흡입력\n",
       "104  핸디스틱청소기    아이룸           윈드포스 F9  178000    40  420\n",
       "334  핸디스틱청소기    비브르       V38 스페셜 에디션  195000    50  410\n",
       "13   핸디스틱청소기  DIBEA  ALLNEW29000 PLUS  236550    50  400\n",
       "128  핸디스틱청소기  DIBEA      ALLNEW22000+  199000    50  390\n",
       "143  핸디스틱청소기  DIBEA       ALLNEW29000  249000    48  390"
      ]
     },
     "execution_count": 7,
     "metadata": {},
     "output_type": "execute_result"
    }
   ],
   "source": [
    "suctionToplist.head()"
   ]
  },
  {
   "cell_type": "code",
   "execution_count": 15,
   "metadata": {},
   "outputs": [],
   "source": [
    "# 사용 시간 기준 정렬 \n",
    "useTimeTopList = dfDataFinal.sort_values(['사용시간'],ascending=False)"
   ]
  },
  {
   "cell_type": "code",
   "execution_count": 13,
   "metadata": {},
   "outputs": [
    {
     "data": {
      "text/html": [
       "<div>\n",
       "<style scoped>\n",
       "    .dataframe tbody tr th:only-of-type {\n",
       "        vertical-align: middle;\n",
       "    }\n",
       "\n",
       "    .dataframe tbody tr th {\n",
       "        vertical-align: top;\n",
       "    }\n",
       "\n",
       "    .dataframe thead th {\n",
       "        text-align: right;\n",
       "    }\n",
       "</style>\n",
       "<table border=\"1\" class=\"dataframe\">\n",
       "  <thead>\n",
       "    <tr style=\"text-align: right;\">\n",
       "      <th></th>\n",
       "      <th>카테고리</th>\n",
       "      <th>회사명</th>\n",
       "      <th>모델명</th>\n",
       "      <th>가격</th>\n",
       "      <th>사용시간</th>\n",
       "      <th>흡입력</th>\n",
       "    </tr>\n",
       "  </thead>\n",
       "  <tbody>\n",
       "    <tr>\n",
       "      <th>830</th>\n",
       "      <td>핸디스틱청소기</td>\n",
       "      <td>기펠</td>\n",
       "      <td>BTS-5000</td>\n",
       "      <td>471980</td>\n",
       "      <td>240</td>\n",
       "      <td>0</td>\n",
       "    </tr>\n",
       "    <tr>\n",
       "      <th>1020</th>\n",
       "      <td>핸디스틱청소기</td>\n",
       "      <td>라이녹스</td>\n",
       "      <td>원큐 RXBC-C200</td>\n",
       "      <td>174830</td>\n",
       "      <td>240</td>\n",
       "      <td>0</td>\n",
       "    </tr>\n",
       "    <tr>\n",
       "      <th>382</th>\n",
       "      <td>핸디스틱청소기</td>\n",
       "      <td>헤몬</td>\n",
       "      <td>ST-6655</td>\n",
       "      <td>39010</td>\n",
       "      <td>180</td>\n",
       "      <td>120</td>\n",
       "    </tr>\n",
       "    <tr>\n",
       "      <th>663</th>\n",
       "      <td>핸디스틱청소기</td>\n",
       "      <td>무궁화전자</td>\n",
       "      <td>바로바로 MDC-910</td>\n",
       "      <td>225460</td>\n",
       "      <td>150</td>\n",
       "      <td>0</td>\n",
       "    </tr>\n",
       "    <tr>\n",
       "      <th>673</th>\n",
       "      <td>핸디스틱청소기</td>\n",
       "      <td>무궁화전자</td>\n",
       "      <td>바로바로 MDC-900</td>\n",
       "      <td>222270</td>\n",
       "      <td>150</td>\n",
       "      <td>0</td>\n",
       "    </tr>\n",
       "  </tbody>\n",
       "</table>\n",
       "</div>"
      ],
      "text/plain": [
       "         카테고리    회사명           모델명      가격  사용시간  흡입력\n",
       "830   핸디스틱청소기     기펠      BTS-5000  471980   240    0\n",
       "1020  핸디스틱청소기   라이녹스  원큐 RXBC-C200  174830   240    0\n",
       "382   핸디스틱청소기     헤몬       ST-6655   39010   180  120\n",
       "663   핸디스틱청소기  무궁화전자  바로바로 MDC-910  225460   150    0\n",
       "673   핸디스틱청소기  무궁화전자  바로바로 MDC-900  222270   150    0"
      ]
     },
     "execution_count": 13,
     "metadata": {},
     "output_type": "execute_result"
    }
   ],
   "source": [
    "useTimeTopList.head()"
   ]
  },
  {
   "cell_type": "code",
   "execution_count": 17,
   "metadata": {},
   "outputs": [
    {
     "data": {
      "text/html": [
       "<div>\n",
       "<style scoped>\n",
       "    .dataframe tbody tr th:only-of-type {\n",
       "        vertical-align: middle;\n",
       "    }\n",
       "\n",
       "    .dataframe tbody tr th {\n",
       "        vertical-align: top;\n",
       "    }\n",
       "\n",
       "    .dataframe thead th {\n",
       "        text-align: right;\n",
       "    }\n",
       "</style>\n",
       "<table border=\"1\" class=\"dataframe\">\n",
       "  <thead>\n",
       "    <tr style=\"text-align: right;\">\n",
       "      <th></th>\n",
       "      <th>카테고리</th>\n",
       "      <th>회사명</th>\n",
       "      <th>모델명</th>\n",
       "      <th>가격</th>\n",
       "      <th>사용시간</th>\n",
       "      <th>흡입력</th>\n",
       "    </tr>\n",
       "  </thead>\n",
       "  <tbody>\n",
       "    <tr>\n",
       "      <th>830</th>\n",
       "      <td>핸디스틱청소기</td>\n",
       "      <td>기펠</td>\n",
       "      <td>BTS-5000</td>\n",
       "      <td>471980</td>\n",
       "      <td>240</td>\n",
       "      <td>0</td>\n",
       "    </tr>\n",
       "    <tr>\n",
       "      <th>1020</th>\n",
       "      <td>핸디스틱청소기</td>\n",
       "      <td>라이녹스</td>\n",
       "      <td>원큐 RXBC-C200</td>\n",
       "      <td>174830</td>\n",
       "      <td>240</td>\n",
       "      <td>0</td>\n",
       "    </tr>\n",
       "    <tr>\n",
       "      <th>382</th>\n",
       "      <td>핸디스틱청소기</td>\n",
       "      <td>헤몬</td>\n",
       "      <td>ST-6655</td>\n",
       "      <td>39010</td>\n",
       "      <td>180</td>\n",
       "      <td>120</td>\n",
       "    </tr>\n",
       "    <tr>\n",
       "      <th>663</th>\n",
       "      <td>핸디스틱청소기</td>\n",
       "      <td>무궁화전자</td>\n",
       "      <td>바로바로 MDC-910</td>\n",
       "      <td>225460</td>\n",
       "      <td>150</td>\n",
       "      <td>0</td>\n",
       "    </tr>\n",
       "    <tr>\n",
       "      <th>673</th>\n",
       "      <td>핸디스틱청소기</td>\n",
       "      <td>무궁화전자</td>\n",
       "      <td>바로바로 MDC-900</td>\n",
       "      <td>222270</td>\n",
       "      <td>150</td>\n",
       "      <td>0</td>\n",
       "    </tr>\n",
       "  </tbody>\n",
       "</table>\n",
       "</div>"
      ],
      "text/plain": [
       "         카테고리    회사명           모델명      가격  사용시간  흡입력\n",
       "830   핸디스틱청소기     기펠      BTS-5000  471980   240    0\n",
       "1020  핸디스틱청소기   라이녹스  원큐 RXBC-C200  174830   240    0\n",
       "382   핸디스틱청소기     헤몬       ST-6655   39010   180  120\n",
       "663   핸디스틱청소기  무궁화전자  바로바로 MDC-910  225460   150    0\n",
       "673   핸디스틱청소기  무궁화전자  바로바로 MDC-900  222270   150    0"
      ]
     },
     "execution_count": 17,
     "metadata": {},
     "output_type": "execute_result"
    }
   ],
   "source": [
    "# 2개도 가능\n",
    "dfDataFinal.sort_values(['사용시간','흡입력'],ascending=False).head(5)b"
   ]
  },
  {
   "cell_type": "code",
   "execution_count": 26,
   "metadata": {},
   "outputs": [
    {
     "name": "stdout",
     "output_type": "stream",
     "text": [
      "평균가격 : 469,697원, 평균 흡입력 : 115.86W,평균사용시간 : 39.32분\n"
     ]
    }
   ],
   "source": [
    "## 가성비 좋은 제품 찾기 평균 값\n",
    "# 평균값\n",
    "priceMean = int(dfDataFinal['가격'].mean()) # 47만원\n",
    "suctionMean = dfDataFinal['흡입력'].mean() #115.8\n",
    "useTimeMean = dfDataFinal['사용시간'].mean() #39분\n",
    "\n",
    "print(f'평균가격 : {priceMean:,d}원, 평균 흡입력 : {suctionMean:,.2f}W,평균사용시간 : {useTimeMean:,.2f}분' )"
   ]
  },
  {
   "cell_type": "code",
   "execution_count": null,
   "metadata": {},
   "outputs": [],
   "source": [
    "## 가성비 좋은 제품의 조건 만들기\n",
    "condition1 = dfDataFinal['가격'] < priceMean\n",
    "condition2 = dfDataFinal['흡입력'] > suctionMean\n",
    "condition3 = dfDataFinal['사용시간'] > useTimeMean\n"
   ]
  },
  {
   "cell_type": "code",
   "execution_count": 38,
   "metadata": {},
   "outputs": [],
   "source": [
    "chartData = dfDataFinal[condition1&condition2&condition3]"
   ]
  },
  {
   "cell_type": "markdown",
   "metadata": {},
   "source": [
    "##### 데이터 시각화"
   ]
  },
  {
   "cell_type": "code",
   "execution_count": 36,
   "metadata": {},
   "outputs": [],
   "source": [
    "# 필요라이브러리 등록\n",
    "import pandas as pd\n",
    "import numpy as np\n",
    "import matplotlib.pyplot as plt\n",
    "import seaborn as sns\n",
    "import folium\n",
    "from folium.plugins import MarkerCluster"
   ]
  },
  {
   "cell_type": "code",
   "execution_count": 37,
   "metadata": {},
   "outputs": [],
   "source": [
    "from matplotlib import rcParams,font_manager,rc\n",
    "font_path = 'C:/Windows/Fonts/NanumGothicCoding.ttf' #나눔고딕코딩체\n",
    "font_name = font_manager.FontProperties(fname=font_path).get_name() # 실제 설치된 폰트 이름 조회\n",
    "rc('font',family=font_name) # 한글깨짐 현상 해결!!\n",
    "rcParams['axes.unicode_minus'] = False # 한글 사용시 마이너스가 표시가 깨지는 걸 방지"
   ]
  },
  {
   "cell_type": "code",
   "execution_count": 60,
   "metadata": {},
   "outputs": [],
   "source": [
    "## 흡입력, 사용시간 최대값, 평균값\n",
    "suctionMax = chartData['흡입력'].max() # 420\n",
    "suctionMean2 = chartData['흡입력'].mean() # 229\n",
    "useTimeMax = chartData['사용시간'].max() # 180\n",
    "useTimeMean2 = chartData['사용시간'].mean()"
   ]
  },
  {
   "cell_type": "code",
   "execution_count": 63,
   "metadata": {},
   "outputs": [
    {
     "data": {
      "image/png": "[encoded data removed]",
      "text/plain": [
       "<Figure size 1800x1000 with 1 Axes>"
      ]
     },
     "metadata": {},
     "output_type": "display_data"
    }
   ],
   "source": [
    "plt.figure(figsize=(18,10))\n",
    "sns.scatterplot(x='흡입력',y='사용시간',data=chartData,size='가격',hue=chartData['회사명'],sizes=(10,400),legend=False)\n",
    "\n",
    "plt.plot([0,suctionMax],[useTimeMean2,useTimeMean2],'r--',lw=1) # 사용시간 평균치에 선 긋기\n",
    "plt.plot([suctionMean2,suctionMean2],[0,useTimeMax],'b--',lw=1) # 흡입력의 평균치에 선 긋기\n",
    "\n",
    "plt.show()"
   ]
  },
  {
   "cell_type": "code",
   "execution_count": 64,
   "metadata": {},
   "outputs": [],
   "source": [
    "## 인기제품 데이터 시각화\n",
    "chartDataTop = chartData[:20]"
   ]
  },
  {
   "cell_type": "code",
   "execution_count": 103,
   "metadata": {},
   "outputs": [
    {
     "data": {
      "image/png": "[encoded data removed]",
      "text/plain": [
       "<Figure size 2000x1000 with 1 Axes>"
      ]
     },
     "metadata": {},
     "output_type": "display_data"
    }
   ],
   "source": [
    "import random\n",
    "\n",
    "fig = plt.figure(figsize=(20,10))\n",
    "sns.scatterplot(data=chartDataTop,x='흡입력',y='사용시간',size='가격',sizes=(20,500),legend=False,hue=chartDataTop['모델명'])\n",
    "plt.title('무선 청소기 Top 20')\n",
    "\n",
    "\n",
    "for index, row in chartDataTop.iterrows():\n",
    "    x = row['흡입력'] + random.randrange(-2,2)\n",
    "    y = row['사용시간'] + random.randrange(-3,2)\n",
    "    s = row['모델명']\n",
    "    plt.text(x,y,s, size=10)\n",
    "\n",
    "plt.show()"
   ]
  },
  {
   "cell_type": "markdown",
   "metadata": {},
   "source": [
    "##### 결론\n",
    "- 데이터분석을 위한 전처리는 쉽지 않으나 반드시 필요하다.\n",
    "- 결과들이 예상이나, 실제와는 다를 수 있다."
   ]
  }
 ],
 "metadata": {
  "kernelspec": {
   "display_name": "Python 3",
   "language": "python",
   "name": "python3"
  },
  "language_info": {
   "codemirror_mode": {
    "name": "ipython",
    "version": 3
   },
   "file_extension": ".py",
   "mimetype": "text/x-python",
   "name": "python",
   "nbconvert_exporter": "python",
   "pygments_lexer": "ipython3",
   "version": "3.12.2"
  }
 },
 "nbformat": 4,
 "nbformat_minor": 2
}
