{
 "cells": [
  {
   "cell_type": "markdown",
   "metadata": {},
   "source": [
    "## Pandas 학습\n",
    "\n",
    "### 라이브러리 추가\n",
    "\n",
    "```python\n",
    "!pip install pandas\n",
    "```\n",
    "\n",
    "- Sucessfully, Installed : 최초 설치\n",
    "- Requirement already satisfied... : 이미 설치\n",
    "\n"
   ]
  },
  {
   "cell_type": "code",
   "execution_count": null,
   "metadata": {},
   "outputs": [],
   "source": [
    "# 판다스 라이브러리 로딩\n",
    "import pandas as pd"
   ]
  },
  {
   "cell_type": "markdown",
   "metadata": {},
   "source": [
    "### Pandas 기본\n",
    "#### DataFrame 객체\n",
    "-파이썬 2차원 리스트(배열)과 동일\n",
    "- 행(row) 각 하나의 유니크 데이터묶음\n",
    "- 열(column) 유니크 데이터의 하나하나의 특성"
   ]
  },
  {
   "cell_type": "code",
   "execution_count": null,
   "metadata": {},
   "outputs": [],
   "source": [
    "## 딕셔너리로 DataFrame 객체 생성 = 일반 2차원 리스트와 동일하게 생성 가능\n",
    "data = {'이름':['홍길동','전요한','Sam'],'나이':[29,40,41],'결혼 여부':['True','False','True']}\n",
    "df = pd.DataFrame(data)\n",
    "df"
   ]
  },
  {
   "cell_type": "code",
   "execution_count": null,
   "metadata": {},
   "outputs": [],
   "source": [
    "# 2차원 리스트 생성\n",
    "data = [['홍길동',29,'대한민국','Hgd@nate.com',True],['전요한',40,'수리남','Gby@google.com',False],\n",
    "        ['Sam',41,'영국','sam7138@google.com',True],['홍길순',18,'대한민국','hgs@daum.net',False]]\n",
    "\n",
    "data"
   ]
  },
  {
   "cell_type": "code",
   "execution_count": null,
   "metadata": {},
   "outputs": [],
   "source": [
    "# 2차원 리스트로 DataFrame 객체 생성\n",
    "df = pd.DataFrame(data=data,columns=['이름','나이','국적','이메일','결혼 여부'])\n",
    "df\n"
   ]
  },
  {
   "cell_type": "code",
   "execution_count": null,
   "metadata": {},
   "outputs": [],
   "source": [
    "## DataFrame에서 데이터 조회(열) - 리스트는 for문을 써야지 출력가능\n",
    "df['이름']\n"
   ]
  },
  {
   "cell_type": "code",
   "execution_count": null,
   "metadata": {},
   "outputs": [],
   "source": [
    "## DataFrame에서 조회(두개의 열 조회)\n",
    "df[['이름','나이']]\n",
    "\n",
    "\n"
   ]
  },
  {
   "cell_type": "code",
   "execution_count": null,
   "metadata": {},
   "outputs": [],
   "source": [
    "## DataFrame 행으로 조회\n",
    "df.loc[0]"
   ]
  },
  {
   "cell_type": "code",
   "execution_count": null,
   "metadata": {},
   "outputs": [],
   "source": [
    "## DataFrame에서 조회(행)\n",
    "df.loc[[0,2]]"
   ]
  },
  {
   "cell_type": "code",
   "execution_count": null,
   "metadata": {},
   "outputs": [],
   "source": [
    "# 현재 DataFrame 확인 \n",
    "df"
   ]
  },
  {
   "cell_type": "code",
   "execution_count": null,
   "metadata": {},
   "outputs": [],
   "source": [
    "# 새 컬럼 추카\n",
    "df['전화 번호'] = ['010','02','070','018']"
   ]
  },
  {
   "cell_type": "code",
   "execution_count": null,
   "metadata": {},
   "outputs": [],
   "source": [
    "# 추가된 DataFrame 확인\n",
    "df"
   ]
  },
  {
   "cell_type": "code",
   "execution_count": null,
   "metadata": {},
   "outputs": [],
   "source": [
    "# 열 삭제 , axis = 0(행),1(열)\n",
    "df.drop('결혼 여부',axis=1)"
   ]
  },
  {
   "cell_type": "code",
   "execution_count": null,
   "metadata": {},
   "outputs": [],
   "source": [
    "## drop()은 삭제하고 출력만 해준다. 완전한 삭제를 위해서는 inplace 옵션을 사용해야 한다.\n",
    "# inplace를 사용하면 화면에 출력이 안된다\n",
    "df.drop('결혼 여부',axis=1,inplace=True)\n",
    "\n",
    "\n"
   ]
  },
  {
   "cell_type": "code",
   "execution_count": null,
   "metadata": {},
   "outputs": [],
   "source": [
    "# 삭제를 확인\n",
    "df"
   ]
  },
  {
   "cell_type": "code",
   "execution_count": null,
   "metadata": {},
   "outputs": [],
   "source": [
    "df.loc[4] = ['선영',17,'대한민국','yong@gmail.com','010']"
   ]
  },
  {
   "cell_type": "code",
   "execution_count": null,
   "metadata": {},
   "outputs": [],
   "source": [
    "df"
   ]
  },
  {
   "cell_type": "code",
   "execution_count": null,
   "metadata": {},
   "outputs": [],
   "source": [
    "# 행 삭제\n",
    "df2 = df.drop(4)"
   ]
  },
  {
   "cell_type": "code",
   "execution_count": null,
   "metadata": {},
   "outputs": [],
   "source": [
    "df2"
   ]
  },
  {
   "cell_type": "code",
   "execution_count": null,
   "metadata": {},
   "outputs": [],
   "source": [
    "#행 삭제 inplace\n",
    "df.drop(2,inplace=True,axis=0)"
   ]
  },
  {
   "cell_type": "code",
   "execution_count": null,
   "metadata": {},
   "outputs": [],
   "source": [
    "df"
   ]
  },
  {
   "cell_type": "code",
   "execution_count": null,
   "metadata": {},
   "outputs": [],
   "source": [
    "# 열 이름 변경\n",
    "df.rename(columns={'전화 번호':'휴대폰'}, inplace=True)"
   ]
  },
  {
   "cell_type": "code",
   "execution_count": null,
   "metadata": {},
   "outputs": [],
   "source": [
    "df"
   ]
  },
  {
   "cell_type": "markdown",
   "metadata": {},
   "source": [
    "- DataFrame은 파이썬의 2차원 리스트와 동일하지만 좀 더 사용하기 쉽도록 만든 클래스"
   ]
  },
  {
   "cell_type": "markdown",
   "metadata": {},
   "source": [
    "#### 시리즈 객체\n",
    "\n",
    "- 파이썬에서의 1차원 리스트(배열)\n",
    "- 시리즈를 그루핑한게 DataFrame\n",
    "- 가장 최소 단위"
   ]
  },
  {
   "cell_type": "code",
   "execution_count": null,
   "metadata": {},
   "outputs": [],
   "source": [
    "data = [47,20,40,18,17]\n",
    "\n",
    "srs = pd.Series(data)\n",
    "srs"
   ]
  },
  {
   "cell_type": "code",
   "execution_count": null,
   "metadata": {},
   "outputs": [],
   "source": [
    "# DataFrame의 한 열을 가지고온 자료구조와 시리즈는 동일\n",
    "type(df['나이'])\n"
   ]
  },
  {
   "cell_type": "code",
   "execution_count": null,
   "metadata": {},
   "outputs": [],
   "source": [
    "type(srs)"
   ]
  },
  {
   "cell_type": "code",
   "execution_count": null,
   "metadata": {},
   "outputs": [],
   "source": [
    "srs = pd.Series(data= data,index=['홍길동','전요한','홍길순','선영은','강정택'])\n",
    "srs"
   ]
  },
  {
   "cell_type": "markdown",
   "metadata": {},
   "source": [
    "#### 데이터프레임 사용하기\n",
    "\n",
    "- CSV, 엑셀파일 로드\n",
    "- VS Code 플러그인, GrapeCity의 Excel Viewer를 설치\n",
    "- Pandas에서 엑셀 파일을 로드할 때는 onpenpyxl 라이브러리를 설치해야 함\n",
    "\n",
    "```python\n",
    "!pip install openpyxl\n",
    "```"
   ]
  },
  {
   "cell_type": "code",
   "execution_count": null,
   "metadata": {},
   "outputs": [],
   "source": [
    "## CSV 로드\n",
    "df_csv = pd.read_csv('./data/sample_1.csv',encoding='utf-8',header=1,skipfooter=2,usecols=[0,1,2],engine='python')\n",
    "df_csv"
   ]
  },
  {
   "cell_type": "code",
   "execution_count": null,
   "metadata": {},
   "outputs": [],
   "source": [
    "#openpyxl 설치\n",
    "#!pip install openpyxl"
   ]
  },
  {
   "cell_type": "code",
   "execution_count": null,
   "metadata": {},
   "outputs": [],
   "source": [
    "## 엑셀 로드\n",
    "df_xls = pd.read_excel('./data/sample_1.xlsx',header=1,skipfooter=2,usecols='A:C',sheet_name='Sheet1')\n",
    "\n",
    "\n",
    "\n"
   ]
  },
  {
   "cell_type": "markdown",
   "metadata": {},
   "source": [
    "- 동일한 데이터라면 csv와 엑셀 중에서는 csv가 훨씬 용량이 작다"
   ]
  },
  {
   "cell_type": "code",
   "execution_count": null,
   "metadata": {},
   "outputs": [],
   "source": [
    "type(df_csv)"
   ]
  },
  {
   "cell_type": "code",
   "execution_count": null,
   "metadata": {},
   "outputs": [],
   "source": [
    "type(df_xls)"
   ]
  },
  {
   "cell_type": "code",
   "execution_count": 75,
   "metadata": {},
   "outputs": [
    {
     "name": "stdout",
     "output_type": "stream",
     "text": [
      "<class 'pandas.core.frame.DataFrame'>\n",
      "RangeIndex: 6 entries, 0 to 5\n",
      "Data columns (total 3 columns):\n",
      " #   Column  Non-Null Count  Dtype \n",
      "---  ------  --------------  ----- \n",
      " 0   국적코드    6 non-null      object\n",
      " 1   성별      6 non-null      object\n",
      " 2   입국객수    6 non-null      int64 \n",
      "dtypes: int64(1), object(2)\n",
      "memory usage: 276.0+ bytes\n"
     ]
    }
   ],
   "source": [
    "## df 정보 확인 .info()\n",
    "df_csv.info()"
   ]
  },
  {
   "cell_type": "code",
   "execution_count": 74,
   "metadata": {},
   "outputs": [
    {
     "name": "stdout",
     "output_type": "stream",
     "text": [
      "<class 'pandas.core.frame.DataFrame'>\n",
      "RangeIndex: 6 entries, 0 to 5\n",
      "Data columns (total 3 columns):\n",
      " #   Column  Non-Null Count  Dtype \n",
      "---  ------  --------------  ----- \n",
      " 0   국적코드    6 non-null      object\n",
      " 1   성별      6 non-null      object\n",
      " 2   입국객수    6 non-null      int64 \n",
      "dtypes: int64(1), object(2)\n",
      "memory usage: 276.0+ bytes\n"
     ]
    }
   ],
   "source": [
    "df_xls.info()"
   ]
  },
  {
   "cell_type": "code",
   "execution_count": 81,
   "metadata": {},
   "outputs": [
    {
     "data": {
      "text/html": [
       "<div>\n",
       "<style scoped>\n",
       "    .dataframe tbody tr th:only-of-type {\n",
       "        vertical-align: middle;\n",
       "    }\n",
       "\n",
       "    .dataframe tbody tr th {\n",
       "        vertical-align: top;\n",
       "    }\n",
       "\n",
       "    .dataframe thead th {\n",
       "        text-align: right;\n",
       "    }\n",
       "</style>\n",
       "<table border=\"1\" class=\"dataframe\">\n",
       "  <thead>\n",
       "    <tr style=\"text-align: right;\">\n",
       "      <th></th>\n",
       "      <th>국적코드</th>\n",
       "      <th>성별</th>\n",
       "      <th>입국객수</th>\n",
       "    </tr>\n",
       "  </thead>\n",
       "  <tbody>\n",
       "    <tr>\n",
       "      <th>0</th>\n",
       "      <td>A01</td>\n",
       "      <td>남성</td>\n",
       "      <td>106320</td>\n",
       "    </tr>\n",
       "    <tr>\n",
       "      <th>1</th>\n",
       "      <td>A01</td>\n",
       "      <td>여성</td>\n",
       "      <td>191436</td>\n",
       "    </tr>\n",
       "    <tr>\n",
       "      <th>2</th>\n",
       "      <td>A31</td>\n",
       "      <td>남성</td>\n",
       "      <td>319</td>\n",
       "    </tr>\n",
       "  </tbody>\n",
       "</table>\n",
       "</div>"
      ],
      "text/plain": [
       "  국적코드  성별    입국객수\n",
       "0  A01  남성  106320\n",
       "1  A01  여성  191436\n",
       "2  A31  남성     319"
      ]
     },
     "execution_count": 81,
     "metadata": {},
     "output_type": "execute_result"
    }
   ],
   "source": [
    "## 데이터 일부 보기(위에서 부터)\n",
    "df_csv.head(3)"
   ]
  }
 ],
 "metadata": {
  "kernelspec": {
   "display_name": "Python 3",
   "language": "python",
   "name": "python3"
  },
  "language_info": {
   "codemirror_mode": {
    "name": "ipython",
    "version": 3
   },
   "file_extension": ".py",
   "mimetype": "text/x-python",
   "name": "python",
   "nbconvert_exporter": "python",
   "pygments_lexer": "ipython3",
   "version": "3.12.2"
  }
 },
 "nbformat": 4,
 "nbformat_minor": 2
}
