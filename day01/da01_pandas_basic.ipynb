{
 "cells": [
  {
   "cell_type": "markdown",
   "metadata": {},
   "source": [
    "## Pandas 학습\n",
    "\n",
    "### 라이브러리 추가\n",
    "\n",
    "```python\n",
    "!pip install pandas\n",
    "```\n",
    "\n",
    "- Sucessfully, Installed : 최초 설치\n",
    "- Requirement already satisfied... : 이미 설치\n",
    "\n"
   ]
  },
  {
   "cell_type": "code",
   "execution_count": 10,
   "metadata": {},
   "outputs": [],
   "source": [
    "# 판다스 라이브러리 로딩\n",
    "import pandas as pd"
   ]
  },
  {
   "cell_type": "markdown",
   "metadata": {},
   "source": [
    "### Pandas 기본\n",
    "#### DataFrame 객체\n",
    "-파이썬 2차원 리스트(배열)과 동일\n",
    "- 행(row) 각 하나의 유니크 데이터묶음\n",
    "- 열(column) 유니크 데이터의 하나하나의 특성"
   ]
  },
  {
   "cell_type": "code",
   "execution_count": 11,
   "metadata": {},
   "outputs": [
    {
     "data": {
      "text/html": [
       "<div>\n",
       "<style scoped>\n",
       "    .dataframe tbody tr th:only-of-type {\n",
       "        vertical-align: middle;\n",
       "    }\n",
       "\n",
       "    .dataframe tbody tr th {\n",
       "        vertical-align: top;\n",
       "    }\n",
       "\n",
       "    .dataframe thead th {\n",
       "        text-align: right;\n",
       "    }\n",
       "</style>\n",
       "<table border=\"1\" class=\"dataframe\">\n",
       "  <thead>\n",
       "    <tr style=\"text-align: right;\">\n",
       "      <th></th>\n",
       "      <th>이름</th>\n",
       "      <th>나이</th>\n",
       "      <th>결혼 여부</th>\n",
       "    </tr>\n",
       "  </thead>\n",
       "  <tbody>\n",
       "    <tr>\n",
       "      <th>0</th>\n",
       "      <td>홍길동</td>\n",
       "      <td>29</td>\n",
       "      <td>True</td>\n",
       "    </tr>\n",
       "    <tr>\n",
       "      <th>1</th>\n",
       "      <td>전요한</td>\n",
       "      <td>40</td>\n",
       "      <td>False</td>\n",
       "    </tr>\n",
       "    <tr>\n",
       "      <th>2</th>\n",
       "      <td>Sam</td>\n",
       "      <td>41</td>\n",
       "      <td>True</td>\n",
       "    </tr>\n",
       "  </tbody>\n",
       "</table>\n",
       "</div>"
      ],
      "text/plain": [
       "    이름  나이  결혼 여부\n",
       "0  홍길동  29   True\n",
       "1  전요한  40  False\n",
       "2  Sam  41   True"
      ]
     },
     "execution_count": 11,
     "metadata": {},
     "output_type": "execute_result"
    }
   ],
   "source": [
    "## 딕셔너리로 DataFrame 객체 생성 = 일반 2차원 리스트와 동일하게 생성 가능\n",
    "data = {'이름':['홍길동','전요한','Sam'],'나이':[29,40,41],'결혼 여부':['True','False','True']}\n",
    "df = pd.DataFrame(data)\n",
    "df"
   ]
  },
  {
   "cell_type": "code",
   "execution_count": 12,
   "metadata": {},
   "outputs": [
    {
     "data": {
      "text/plain": [
       "[['홍길동', 29, '대한민국', 'Hgd@nate.com', True],\n",
       " ['전요한', 40, '수리남', 'Gby@google.com', False],\n",
       " ['Sam', 41, '영국', 'sam7138@google.com', True],\n",
       " ['홍길순', 18, '대한민국', 'hgs@daum.net', False]]"
      ]
     },
     "execution_count": 12,
     "metadata": {},
     "output_type": "execute_result"
    }
   ],
   "source": [
    "# 2차원 리스트 생성\n",
    "data = [['홍길동',29,'대한민국','Hgd@nate.com',True],['전요한',40,'수리남','Gby@google.com',False],\n",
    "        ['Sam',41,'영국','sam7138@google.com',True],['홍길순',18,'대한민국','hgs@daum.net',False]]\n",
    "\n",
    "data"
   ]
  },
  {
   "cell_type": "code",
   "execution_count": 13,
   "metadata": {},
   "outputs": [
    {
     "data": {
      "text/html": [
       "<div>\n",
       "<style scoped>\n",
       "    .dataframe tbody tr th:only-of-type {\n",
       "        vertical-align: middle;\n",
       "    }\n",
       "\n",
       "    .dataframe tbody tr th {\n",
       "        vertical-align: top;\n",
       "    }\n",
       "\n",
       "    .dataframe thead th {\n",
       "        text-align: right;\n",
       "    }\n",
       "</style>\n",
       "<table border=\"1\" class=\"dataframe\">\n",
       "  <thead>\n",
       "    <tr style=\"text-align: right;\">\n",
       "      <th></th>\n",
       "      <th>이름</th>\n",
       "      <th>나이</th>\n",
       "      <th>국적</th>\n",
       "      <th>이메일</th>\n",
       "      <th>결혼 여부</th>\n",
       "    </tr>\n",
       "  </thead>\n",
       "  <tbody>\n",
       "    <tr>\n",
       "      <th>0</th>\n",
       "      <td>홍길동</td>\n",
       "      <td>29</td>\n",
       "      <td>대한민국</td>\n",
       "      <td>Hgd@nate.com</td>\n",
       "      <td>True</td>\n",
       "    </tr>\n",
       "    <tr>\n",
       "      <th>1</th>\n",
       "      <td>전요한</td>\n",
       "      <td>40</td>\n",
       "      <td>수리남</td>\n",
       "      <td>Gby@google.com</td>\n",
       "      <td>False</td>\n",
       "    </tr>\n",
       "    <tr>\n",
       "      <th>2</th>\n",
       "      <td>Sam</td>\n",
       "      <td>41</td>\n",
       "      <td>영국</td>\n",
       "      <td>sam7138@google.com</td>\n",
       "      <td>True</td>\n",
       "    </tr>\n",
       "    <tr>\n",
       "      <th>3</th>\n",
       "      <td>홍길순</td>\n",
       "      <td>18</td>\n",
       "      <td>대한민국</td>\n",
       "      <td>hgs@daum.net</td>\n",
       "      <td>False</td>\n",
       "    </tr>\n",
       "  </tbody>\n",
       "</table>\n",
       "</div>"
      ],
      "text/plain": [
       "    이름  나이    국적                 이메일  결혼 여부\n",
       "0  홍길동  29  대한민국        Hgd@nate.com   True\n",
       "1  전요한  40   수리남      Gby@google.com  False\n",
       "2  Sam  41    영국  sam7138@google.com   True\n",
       "3  홍길순  18  대한민국        hgs@daum.net  False"
      ]
     },
     "execution_count": 13,
     "metadata": {},
     "output_type": "execute_result"
    }
   ],
   "source": [
    "# 2차원 리스트로 DataFrame 객체 생성\n",
    "df = pd.DataFrame(data=data,columns=['이름','나이','국적','이메일','결혼 여부'])\n",
    "df\n"
   ]
  },
  {
   "cell_type": "code",
   "execution_count": 14,
   "metadata": {},
   "outputs": [
    {
     "data": {
      "text/plain": [
       "0    홍길동\n",
       "1    전요한\n",
       "2    Sam\n",
       "3    홍길순\n",
       "Name: 이름, dtype: object"
      ]
     },
     "execution_count": 14,
     "metadata": {},
     "output_type": "execute_result"
    }
   ],
   "source": [
    "## DataFrame에서 데이터 조회(열) - 리스트는 for문을 써야지 출력가능\n",
    "df['이름']\n"
   ]
  },
  {
   "cell_type": "code",
   "execution_count": 15,
   "metadata": {},
   "outputs": [
    {
     "data": {
      "text/html": [
       "<div>\n",
       "<style scoped>\n",
       "    .dataframe tbody tr th:only-of-type {\n",
       "        vertical-align: middle;\n",
       "    }\n",
       "\n",
       "    .dataframe tbody tr th {\n",
       "        vertical-align: top;\n",
       "    }\n",
       "\n",
       "    .dataframe thead th {\n",
       "        text-align: right;\n",
       "    }\n",
       "</style>\n",
       "<table border=\"1\" class=\"dataframe\">\n",
       "  <thead>\n",
       "    <tr style=\"text-align: right;\">\n",
       "      <th></th>\n",
       "      <th>이름</th>\n",
       "      <th>나이</th>\n",
       "    </tr>\n",
       "  </thead>\n",
       "  <tbody>\n",
       "    <tr>\n",
       "      <th>0</th>\n",
       "      <td>홍길동</td>\n",
       "      <td>29</td>\n",
       "    </tr>\n",
       "    <tr>\n",
       "      <th>1</th>\n",
       "      <td>전요한</td>\n",
       "      <td>40</td>\n",
       "    </tr>\n",
       "    <tr>\n",
       "      <th>2</th>\n",
       "      <td>Sam</td>\n",
       "      <td>41</td>\n",
       "    </tr>\n",
       "    <tr>\n",
       "      <th>3</th>\n",
       "      <td>홍길순</td>\n",
       "      <td>18</td>\n",
       "    </tr>\n",
       "  </tbody>\n",
       "</table>\n",
       "</div>"
      ],
      "text/plain": [
       "    이름  나이\n",
       "0  홍길동  29\n",
       "1  전요한  40\n",
       "2  Sam  41\n",
       "3  홍길순  18"
      ]
     },
     "execution_count": 15,
     "metadata": {},
     "output_type": "execute_result"
    }
   ],
   "source": [
    "## DataFrame에서 조회(두개의 열 조회)\n",
    "df[['이름','나이']]\n",
    "\n",
    "\n"
   ]
  },
  {
   "cell_type": "code",
   "execution_count": 16,
   "metadata": {},
   "outputs": [
    {
     "data": {
      "text/plain": [
       "이름                홍길동\n",
       "나이                 29\n",
       "국적               대한민국\n",
       "이메일      Hgd@nate.com\n",
       "결혼 여부            True\n",
       "Name: 0, dtype: object"
      ]
     },
     "execution_count": 16,
     "metadata": {},
     "output_type": "execute_result"
    }
   ],
   "source": [
    "## DataFrame 행으로 조회\n",
    "df.loc[0]"
   ]
  },
  {
   "cell_type": "code",
   "execution_count": 17,
   "metadata": {},
   "outputs": [
    {
     "data": {
      "text/html": [
       "<div>\n",
       "<style scoped>\n",
       "    .dataframe tbody tr th:only-of-type {\n",
       "        vertical-align: middle;\n",
       "    }\n",
       "\n",
       "    .dataframe tbody tr th {\n",
       "        vertical-align: top;\n",
       "    }\n",
       "\n",
       "    .dataframe thead th {\n",
       "        text-align: right;\n",
       "    }\n",
       "</style>\n",
       "<table border=\"1\" class=\"dataframe\">\n",
       "  <thead>\n",
       "    <tr style=\"text-align: right;\">\n",
       "      <th></th>\n",
       "      <th>이름</th>\n",
       "      <th>나이</th>\n",
       "      <th>국적</th>\n",
       "      <th>이메일</th>\n",
       "      <th>결혼 여부</th>\n",
       "    </tr>\n",
       "  </thead>\n",
       "  <tbody>\n",
       "    <tr>\n",
       "      <th>0</th>\n",
       "      <td>홍길동</td>\n",
       "      <td>29</td>\n",
       "      <td>대한민국</td>\n",
       "      <td>Hgd@nate.com</td>\n",
       "      <td>True</td>\n",
       "    </tr>\n",
       "    <tr>\n",
       "      <th>2</th>\n",
       "      <td>Sam</td>\n",
       "      <td>41</td>\n",
       "      <td>영국</td>\n",
       "      <td>sam7138@google.com</td>\n",
       "      <td>True</td>\n",
       "    </tr>\n",
       "  </tbody>\n",
       "</table>\n",
       "</div>"
      ],
      "text/plain": [
       "    이름  나이    국적                 이메일  결혼 여부\n",
       "0  홍길동  29  대한민국        Hgd@nate.com   True\n",
       "2  Sam  41    영국  sam7138@google.com   True"
      ]
     },
     "execution_count": 17,
     "metadata": {},
     "output_type": "execute_result"
    }
   ],
   "source": [
    "## DataFrame에서 조회(행)\n",
    "df.loc[[0,2]]"
   ]
  },
  {
   "cell_type": "code",
   "execution_count": 18,
   "metadata": {},
   "outputs": [
    {
     "data": {
      "text/html": [
       "<div>\n",
       "<style scoped>\n",
       "    .dataframe tbody tr th:only-of-type {\n",
       "        vertical-align: middle;\n",
       "    }\n",
       "\n",
       "    .dataframe tbody tr th {\n",
       "        vertical-align: top;\n",
       "    }\n",
       "\n",
       "    .dataframe thead th {\n",
       "        text-align: right;\n",
       "    }\n",
       "</style>\n",
       "<table border=\"1\" class=\"dataframe\">\n",
       "  <thead>\n",
       "    <tr style=\"text-align: right;\">\n",
       "      <th></th>\n",
       "      <th>이름</th>\n",
       "      <th>나이</th>\n",
       "      <th>국적</th>\n",
       "      <th>이메일</th>\n",
       "      <th>결혼 여부</th>\n",
       "    </tr>\n",
       "  </thead>\n",
       "  <tbody>\n",
       "    <tr>\n",
       "      <th>0</th>\n",
       "      <td>홍길동</td>\n",
       "      <td>29</td>\n",
       "      <td>대한민국</td>\n",
       "      <td>Hgd@nate.com</td>\n",
       "      <td>True</td>\n",
       "    </tr>\n",
       "    <tr>\n",
       "      <th>1</th>\n",
       "      <td>전요한</td>\n",
       "      <td>40</td>\n",
       "      <td>수리남</td>\n",
       "      <td>Gby@google.com</td>\n",
       "      <td>False</td>\n",
       "    </tr>\n",
       "    <tr>\n",
       "      <th>2</th>\n",
       "      <td>Sam</td>\n",
       "      <td>41</td>\n",
       "      <td>영국</td>\n",
       "      <td>sam7138@google.com</td>\n",
       "      <td>True</td>\n",
       "    </tr>\n",
       "    <tr>\n",
       "      <th>3</th>\n",
       "      <td>홍길순</td>\n",
       "      <td>18</td>\n",
       "      <td>대한민국</td>\n",
       "      <td>hgs@daum.net</td>\n",
       "      <td>False</td>\n",
       "    </tr>\n",
       "  </tbody>\n",
       "</table>\n",
       "</div>"
      ],
      "text/plain": [
       "    이름  나이    국적                 이메일  결혼 여부\n",
       "0  홍길동  29  대한민국        Hgd@nate.com   True\n",
       "1  전요한  40   수리남      Gby@google.com  False\n",
       "2  Sam  41    영국  sam7138@google.com   True\n",
       "3  홍길순  18  대한민국        hgs@daum.net  False"
      ]
     },
     "execution_count": 18,
     "metadata": {},
     "output_type": "execute_result"
    }
   ],
   "source": [
    "# 현재 DataFrame 확인 \n",
    "df"
   ]
  },
  {
   "cell_type": "code",
   "execution_count": 19,
   "metadata": {},
   "outputs": [],
   "source": [
    "# 새 컬럼 추카\n",
    "df['전화 번호'] = ['010','02','070','018']"
   ]
  },
  {
   "cell_type": "code",
   "execution_count": 20,
   "metadata": {},
   "outputs": [
    {
     "data": {
      "text/html": [
       "<div>\n",
       "<style scoped>\n",
       "    .dataframe tbody tr th:only-of-type {\n",
       "        vertical-align: middle;\n",
       "    }\n",
       "\n",
       "    .dataframe tbody tr th {\n",
       "        vertical-align: top;\n",
       "    }\n",
       "\n",
       "    .dataframe thead th {\n",
       "        text-align: right;\n",
       "    }\n",
       "</style>\n",
       "<table border=\"1\" class=\"dataframe\">\n",
       "  <thead>\n",
       "    <tr style=\"text-align: right;\">\n",
       "      <th></th>\n",
       "      <th>이름</th>\n",
       "      <th>나이</th>\n",
       "      <th>국적</th>\n",
       "      <th>이메일</th>\n",
       "      <th>결혼 여부</th>\n",
       "      <th>전화 번호</th>\n",
       "    </tr>\n",
       "  </thead>\n",
       "  <tbody>\n",
       "    <tr>\n",
       "      <th>0</th>\n",
       "      <td>홍길동</td>\n",
       "      <td>29</td>\n",
       "      <td>대한민국</td>\n",
       "      <td>Hgd@nate.com</td>\n",
       "      <td>True</td>\n",
       "      <td>010</td>\n",
       "    </tr>\n",
       "    <tr>\n",
       "      <th>1</th>\n",
       "      <td>전요한</td>\n",
       "      <td>40</td>\n",
       "      <td>수리남</td>\n",
       "      <td>Gby@google.com</td>\n",
       "      <td>False</td>\n",
       "      <td>02</td>\n",
       "    </tr>\n",
       "    <tr>\n",
       "      <th>2</th>\n",
       "      <td>Sam</td>\n",
       "      <td>41</td>\n",
       "      <td>영국</td>\n",
       "      <td>sam7138@google.com</td>\n",
       "      <td>True</td>\n",
       "      <td>070</td>\n",
       "    </tr>\n",
       "    <tr>\n",
       "      <th>3</th>\n",
       "      <td>홍길순</td>\n",
       "      <td>18</td>\n",
       "      <td>대한민국</td>\n",
       "      <td>hgs@daum.net</td>\n",
       "      <td>False</td>\n",
       "      <td>018</td>\n",
       "    </tr>\n",
       "  </tbody>\n",
       "</table>\n",
       "</div>"
      ],
      "text/plain": [
       "    이름  나이    국적                 이메일  결혼 여부 전화 번호\n",
       "0  홍길동  29  대한민국        Hgd@nate.com   True   010\n",
       "1  전요한  40   수리남      Gby@google.com  False    02\n",
       "2  Sam  41    영국  sam7138@google.com   True   070\n",
       "3  홍길순  18  대한민국        hgs@daum.net  False   018"
      ]
     },
     "execution_count": 20,
     "metadata": {},
     "output_type": "execute_result"
    }
   ],
   "source": [
    "# 추가된 DataFrame 확인\n",
    "df"
   ]
  },
  {
   "cell_type": "code",
   "execution_count": 21,
   "metadata": {},
   "outputs": [
    {
     "data": {
      "text/html": [
       "<div>\n",
       "<style scoped>\n",
       "    .dataframe tbody tr th:only-of-type {\n",
       "        vertical-align: middle;\n",
       "    }\n",
       "\n",
       "    .dataframe tbody tr th {\n",
       "        vertical-align: top;\n",
       "    }\n",
       "\n",
       "    .dataframe thead th {\n",
       "        text-align: right;\n",
       "    }\n",
       "</style>\n",
       "<table border=\"1\" class=\"dataframe\">\n",
       "  <thead>\n",
       "    <tr style=\"text-align: right;\">\n",
       "      <th></th>\n",
       "      <th>이름</th>\n",
       "      <th>나이</th>\n",
       "      <th>국적</th>\n",
       "      <th>이메일</th>\n",
       "      <th>전화 번호</th>\n",
       "    </tr>\n",
       "  </thead>\n",
       "  <tbody>\n",
       "    <tr>\n",
       "      <th>0</th>\n",
       "      <td>홍길동</td>\n",
       "      <td>29</td>\n",
       "      <td>대한민국</td>\n",
       "      <td>Hgd@nate.com</td>\n",
       "      <td>010</td>\n",
       "    </tr>\n",
       "    <tr>\n",
       "      <th>1</th>\n",
       "      <td>전요한</td>\n",
       "      <td>40</td>\n",
       "      <td>수리남</td>\n",
       "      <td>Gby@google.com</td>\n",
       "      <td>02</td>\n",
       "    </tr>\n",
       "    <tr>\n",
       "      <th>2</th>\n",
       "      <td>Sam</td>\n",
       "      <td>41</td>\n",
       "      <td>영국</td>\n",
       "      <td>sam7138@google.com</td>\n",
       "      <td>070</td>\n",
       "    </tr>\n",
       "    <tr>\n",
       "      <th>3</th>\n",
       "      <td>홍길순</td>\n",
       "      <td>18</td>\n",
       "      <td>대한민국</td>\n",
       "      <td>hgs@daum.net</td>\n",
       "      <td>018</td>\n",
       "    </tr>\n",
       "  </tbody>\n",
       "</table>\n",
       "</div>"
      ],
      "text/plain": [
       "    이름  나이    국적                 이메일 전화 번호\n",
       "0  홍길동  29  대한민국        Hgd@nate.com   010\n",
       "1  전요한  40   수리남      Gby@google.com    02\n",
       "2  Sam  41    영국  sam7138@google.com   070\n",
       "3  홍길순  18  대한민국        hgs@daum.net   018"
      ]
     },
     "execution_count": 21,
     "metadata": {},
     "output_type": "execute_result"
    }
   ],
   "source": [
    "# 열 삭제 , axis = 0(행),1(열)\n",
    "df.drop('결혼 여부',axis=1)"
   ]
  },
  {
   "cell_type": "code",
   "execution_count": 22,
   "metadata": {},
   "outputs": [],
   "source": [
    "## drop()은 삭제하고 출력만 해준다. 완전한 삭제를 위해서는 inplace 옵션을 사용해야 한다.\n",
    "# inplace를 사용하면 화면에 출력이 안된다\n",
    "df.drop('결혼 여부',axis=1,inplace=True)\n",
    "\n",
    "\n"
   ]
  },
  {
   "cell_type": "code",
   "execution_count": 23,
   "metadata": {},
   "outputs": [
    {
     "data": {
      "text/html": [
       "<div>\n",
       "<style scoped>\n",
       "    .dataframe tbody tr th:only-of-type {\n",
       "        vertical-align: middle;\n",
       "    }\n",
       "\n",
       "    .dataframe tbody tr th {\n",
       "        vertical-align: top;\n",
       "    }\n",
       "\n",
       "    .dataframe thead th {\n",
       "        text-align: right;\n",
       "    }\n",
       "</style>\n",
       "<table border=\"1\" class=\"dataframe\">\n",
       "  <thead>\n",
       "    <tr style=\"text-align: right;\">\n",
       "      <th></th>\n",
       "      <th>이름</th>\n",
       "      <th>나이</th>\n",
       "      <th>국적</th>\n",
       "      <th>이메일</th>\n",
       "      <th>전화 번호</th>\n",
       "    </tr>\n",
       "  </thead>\n",
       "  <tbody>\n",
       "    <tr>\n",
       "      <th>0</th>\n",
       "      <td>홍길동</td>\n",
       "      <td>29</td>\n",
       "      <td>대한민국</td>\n",
       "      <td>Hgd@nate.com</td>\n",
       "      <td>010</td>\n",
       "    </tr>\n",
       "    <tr>\n",
       "      <th>1</th>\n",
       "      <td>전요한</td>\n",
       "      <td>40</td>\n",
       "      <td>수리남</td>\n",
       "      <td>Gby@google.com</td>\n",
       "      <td>02</td>\n",
       "    </tr>\n",
       "    <tr>\n",
       "      <th>2</th>\n",
       "      <td>Sam</td>\n",
       "      <td>41</td>\n",
       "      <td>영국</td>\n",
       "      <td>sam7138@google.com</td>\n",
       "      <td>070</td>\n",
       "    </tr>\n",
       "    <tr>\n",
       "      <th>3</th>\n",
       "      <td>홍길순</td>\n",
       "      <td>18</td>\n",
       "      <td>대한민국</td>\n",
       "      <td>hgs@daum.net</td>\n",
       "      <td>018</td>\n",
       "    </tr>\n",
       "  </tbody>\n",
       "</table>\n",
       "</div>"
      ],
      "text/plain": [
       "    이름  나이    국적                 이메일 전화 번호\n",
       "0  홍길동  29  대한민국        Hgd@nate.com   010\n",
       "1  전요한  40   수리남      Gby@google.com    02\n",
       "2  Sam  41    영국  sam7138@google.com   070\n",
       "3  홍길순  18  대한민국        hgs@daum.net   018"
      ]
     },
     "execution_count": 23,
     "metadata": {},
     "output_type": "execute_result"
    }
   ],
   "source": [
    "# 삭제를 확인\n",
    "df"
   ]
  },
  {
   "cell_type": "code",
   "execution_count": 24,
   "metadata": {},
   "outputs": [],
   "source": [
    "df.loc[4] = ['선영',17,'대한민국','yong@gmail.com','010']"
   ]
  },
  {
   "cell_type": "code",
   "execution_count": 25,
   "metadata": {},
   "outputs": [
    {
     "data": {
      "text/html": [
       "<div>\n",
       "<style scoped>\n",
       "    .dataframe tbody tr th:only-of-type {\n",
       "        vertical-align: middle;\n",
       "    }\n",
       "\n",
       "    .dataframe tbody tr th {\n",
       "        vertical-align: top;\n",
       "    }\n",
       "\n",
       "    .dataframe thead th {\n",
       "        text-align: right;\n",
       "    }\n",
       "</style>\n",
       "<table border=\"1\" class=\"dataframe\">\n",
       "  <thead>\n",
       "    <tr style=\"text-align: right;\">\n",
       "      <th></th>\n",
       "      <th>이름</th>\n",
       "      <th>나이</th>\n",
       "      <th>국적</th>\n",
       "      <th>이메일</th>\n",
       "      <th>전화 번호</th>\n",
       "    </tr>\n",
       "  </thead>\n",
       "  <tbody>\n",
       "    <tr>\n",
       "      <th>0</th>\n",
       "      <td>홍길동</td>\n",
       "      <td>29</td>\n",
       "      <td>대한민국</td>\n",
       "      <td>Hgd@nate.com</td>\n",
       "      <td>010</td>\n",
       "    </tr>\n",
       "    <tr>\n",
       "      <th>1</th>\n",
       "      <td>전요한</td>\n",
       "      <td>40</td>\n",
       "      <td>수리남</td>\n",
       "      <td>Gby@google.com</td>\n",
       "      <td>02</td>\n",
       "    </tr>\n",
       "    <tr>\n",
       "      <th>2</th>\n",
       "      <td>Sam</td>\n",
       "      <td>41</td>\n",
       "      <td>영국</td>\n",
       "      <td>sam7138@google.com</td>\n",
       "      <td>070</td>\n",
       "    </tr>\n",
       "    <tr>\n",
       "      <th>3</th>\n",
       "      <td>홍길순</td>\n",
       "      <td>18</td>\n",
       "      <td>대한민국</td>\n",
       "      <td>hgs@daum.net</td>\n",
       "      <td>018</td>\n",
       "    </tr>\n",
       "    <tr>\n",
       "      <th>4</th>\n",
       "      <td>선영</td>\n",
       "      <td>17</td>\n",
       "      <td>대한민국</td>\n",
       "      <td>yong@gmail.com</td>\n",
       "      <td>010</td>\n",
       "    </tr>\n",
       "  </tbody>\n",
       "</table>\n",
       "</div>"
      ],
      "text/plain": [
       "    이름  나이    국적                 이메일 전화 번호\n",
       "0  홍길동  29  대한민국        Hgd@nate.com   010\n",
       "1  전요한  40   수리남      Gby@google.com    02\n",
       "2  Sam  41    영국  sam7138@google.com   070\n",
       "3  홍길순  18  대한민국        hgs@daum.net   018\n",
       "4   선영  17  대한민국      yong@gmail.com   010"
      ]
     },
     "execution_count": 25,
     "metadata": {},
     "output_type": "execute_result"
    }
   ],
   "source": [
    "df"
   ]
  },
  {
   "cell_type": "code",
   "execution_count": 26,
   "metadata": {},
   "outputs": [],
   "source": [
    "# 행 삭제\n",
    "df2 = df.drop(4)"
   ]
  },
  {
   "cell_type": "code",
   "execution_count": 27,
   "metadata": {},
   "outputs": [
    {
     "data": {
      "text/html": [
       "<div>\n",
       "<style scoped>\n",
       "    .dataframe tbody tr th:only-of-type {\n",
       "        vertical-align: middle;\n",
       "    }\n",
       "\n",
       "    .dataframe tbody tr th {\n",
       "        vertical-align: top;\n",
       "    }\n",
       "\n",
       "    .dataframe thead th {\n",
       "        text-align: right;\n",
       "    }\n",
       "</style>\n",
       "<table border=\"1\" class=\"dataframe\">\n",
       "  <thead>\n",
       "    <tr style=\"text-align: right;\">\n",
       "      <th></th>\n",
       "      <th>이름</th>\n",
       "      <th>나이</th>\n",
       "      <th>국적</th>\n",
       "      <th>이메일</th>\n",
       "      <th>전화 번호</th>\n",
       "    </tr>\n",
       "  </thead>\n",
       "  <tbody>\n",
       "    <tr>\n",
       "      <th>0</th>\n",
       "      <td>홍길동</td>\n",
       "      <td>29</td>\n",
       "      <td>대한민국</td>\n",
       "      <td>Hgd@nate.com</td>\n",
       "      <td>010</td>\n",
       "    </tr>\n",
       "    <tr>\n",
       "      <th>1</th>\n",
       "      <td>전요한</td>\n",
       "      <td>40</td>\n",
       "      <td>수리남</td>\n",
       "      <td>Gby@google.com</td>\n",
       "      <td>02</td>\n",
       "    </tr>\n",
       "    <tr>\n",
       "      <th>2</th>\n",
       "      <td>Sam</td>\n",
       "      <td>41</td>\n",
       "      <td>영국</td>\n",
       "      <td>sam7138@google.com</td>\n",
       "      <td>070</td>\n",
       "    </tr>\n",
       "    <tr>\n",
       "      <th>3</th>\n",
       "      <td>홍길순</td>\n",
       "      <td>18</td>\n",
       "      <td>대한민국</td>\n",
       "      <td>hgs@daum.net</td>\n",
       "      <td>018</td>\n",
       "    </tr>\n",
       "  </tbody>\n",
       "</table>\n",
       "</div>"
      ],
      "text/plain": [
       "    이름  나이    국적                 이메일 전화 번호\n",
       "0  홍길동  29  대한민국        Hgd@nate.com   010\n",
       "1  전요한  40   수리남      Gby@google.com    02\n",
       "2  Sam  41    영국  sam7138@google.com   070\n",
       "3  홍길순  18  대한민국        hgs@daum.net   018"
      ]
     },
     "execution_count": 27,
     "metadata": {},
     "output_type": "execute_result"
    }
   ],
   "source": [
    "df2"
   ]
  },
  {
   "cell_type": "code",
   "execution_count": 28,
   "metadata": {},
   "outputs": [],
   "source": [
    "#행 삭제 inplace\n",
    "df.drop(2,inplace=True,axis=0)"
   ]
  },
  {
   "cell_type": "code",
   "execution_count": 29,
   "metadata": {},
   "outputs": [
    {
     "data": {
      "text/html": [
       "<div>\n",
       "<style scoped>\n",
       "    .dataframe tbody tr th:only-of-type {\n",
       "        vertical-align: middle;\n",
       "    }\n",
       "\n",
       "    .dataframe tbody tr th {\n",
       "        vertical-align: top;\n",
       "    }\n",
       "\n",
       "    .dataframe thead th {\n",
       "        text-align: right;\n",
       "    }\n",
       "</style>\n",
       "<table border=\"1\" class=\"dataframe\">\n",
       "  <thead>\n",
       "    <tr style=\"text-align: right;\">\n",
       "      <th></th>\n",
       "      <th>이름</th>\n",
       "      <th>나이</th>\n",
       "      <th>국적</th>\n",
       "      <th>이메일</th>\n",
       "      <th>전화 번호</th>\n",
       "    </tr>\n",
       "  </thead>\n",
       "  <tbody>\n",
       "    <tr>\n",
       "      <th>0</th>\n",
       "      <td>홍길동</td>\n",
       "      <td>29</td>\n",
       "      <td>대한민국</td>\n",
       "      <td>Hgd@nate.com</td>\n",
       "      <td>010</td>\n",
       "    </tr>\n",
       "    <tr>\n",
       "      <th>1</th>\n",
       "      <td>전요한</td>\n",
       "      <td>40</td>\n",
       "      <td>수리남</td>\n",
       "      <td>Gby@google.com</td>\n",
       "      <td>02</td>\n",
       "    </tr>\n",
       "    <tr>\n",
       "      <th>3</th>\n",
       "      <td>홍길순</td>\n",
       "      <td>18</td>\n",
       "      <td>대한민국</td>\n",
       "      <td>hgs@daum.net</td>\n",
       "      <td>018</td>\n",
       "    </tr>\n",
       "    <tr>\n",
       "      <th>4</th>\n",
       "      <td>선영</td>\n",
       "      <td>17</td>\n",
       "      <td>대한민국</td>\n",
       "      <td>yong@gmail.com</td>\n",
       "      <td>010</td>\n",
       "    </tr>\n",
       "  </tbody>\n",
       "</table>\n",
       "</div>"
      ],
      "text/plain": [
       "    이름  나이    국적             이메일 전화 번호\n",
       "0  홍길동  29  대한민국    Hgd@nate.com   010\n",
       "1  전요한  40   수리남  Gby@google.com    02\n",
       "3  홍길순  18  대한민국    hgs@daum.net   018\n",
       "4   선영  17  대한민국  yong@gmail.com   010"
      ]
     },
     "execution_count": 29,
     "metadata": {},
     "output_type": "execute_result"
    }
   ],
   "source": [
    "df"
   ]
  },
  {
   "cell_type": "code",
   "execution_count": 30,
   "metadata": {},
   "outputs": [],
   "source": [
    "# 열 이름 변경\n",
    "df.rename(columns={'전화 번호':'휴대폰'}, inplace=True)"
   ]
  },
  {
   "cell_type": "code",
   "execution_count": 31,
   "metadata": {},
   "outputs": [
    {
     "data": {
      "text/html": [
       "<div>\n",
       "<style scoped>\n",
       "    .dataframe tbody tr th:only-of-type {\n",
       "        vertical-align: middle;\n",
       "    }\n",
       "\n",
       "    .dataframe tbody tr th {\n",
       "        vertical-align: top;\n",
       "    }\n",
       "\n",
       "    .dataframe thead th {\n",
       "        text-align: right;\n",
       "    }\n",
       "</style>\n",
       "<table border=\"1\" class=\"dataframe\">\n",
       "  <thead>\n",
       "    <tr style=\"text-align: right;\">\n",
       "      <th></th>\n",
       "      <th>이름</th>\n",
       "      <th>나이</th>\n",
       "      <th>국적</th>\n",
       "      <th>이메일</th>\n",
       "      <th>휴대폰</th>\n",
       "    </tr>\n",
       "  </thead>\n",
       "  <tbody>\n",
       "    <tr>\n",
       "      <th>0</th>\n",
       "      <td>홍길동</td>\n",
       "      <td>29</td>\n",
       "      <td>대한민국</td>\n",
       "      <td>Hgd@nate.com</td>\n",
       "      <td>010</td>\n",
       "    </tr>\n",
       "    <tr>\n",
       "      <th>1</th>\n",
       "      <td>전요한</td>\n",
       "      <td>40</td>\n",
       "      <td>수리남</td>\n",
       "      <td>Gby@google.com</td>\n",
       "      <td>02</td>\n",
       "    </tr>\n",
       "    <tr>\n",
       "      <th>3</th>\n",
       "      <td>홍길순</td>\n",
       "      <td>18</td>\n",
       "      <td>대한민국</td>\n",
       "      <td>hgs@daum.net</td>\n",
       "      <td>018</td>\n",
       "    </tr>\n",
       "    <tr>\n",
       "      <th>4</th>\n",
       "      <td>선영</td>\n",
       "      <td>17</td>\n",
       "      <td>대한민국</td>\n",
       "      <td>yong@gmail.com</td>\n",
       "      <td>010</td>\n",
       "    </tr>\n",
       "  </tbody>\n",
       "</table>\n",
       "</div>"
      ],
      "text/plain": [
       "    이름  나이    국적             이메일  휴대폰\n",
       "0  홍길동  29  대한민국    Hgd@nate.com  010\n",
       "1  전요한  40   수리남  Gby@google.com   02\n",
       "3  홍길순  18  대한민국    hgs@daum.net  018\n",
       "4   선영  17  대한민국  yong@gmail.com  010"
      ]
     },
     "execution_count": 31,
     "metadata": {},
     "output_type": "execute_result"
    }
   ],
   "source": [
    "df"
   ]
  },
  {
   "cell_type": "markdown",
   "metadata": {},
   "source": [
    "- DataFrame은 파이썬의 2차원 리스트와 동일하지만 좀 더 사용하기 쉽도록 만든 클래스"
   ]
  },
  {
   "cell_type": "markdown",
   "metadata": {},
   "source": [
    "#### 시리즈 객체\n",
    "\n",
    "- 파이썬에서의 1차원 리스트(배열)\n",
    "- 시리즈를 그루핑한게 DataFrame\n",
    "- 가장 최소 단위"
   ]
  },
  {
   "cell_type": "code",
   "execution_count": 32,
   "metadata": {},
   "outputs": [
    {
     "data": {
      "text/plain": [
       "0    47\n",
       "1    20\n",
       "2    40\n",
       "3    18\n",
       "4    17\n",
       "dtype: int64"
      ]
     },
     "execution_count": 32,
     "metadata": {},
     "output_type": "execute_result"
    }
   ],
   "source": [
    "data = [47,20,40,18,17]\n",
    "\n",
    "srs = pd.Series(data)\n",
    "srs"
   ]
  },
  {
   "cell_type": "code",
   "execution_count": 38,
   "metadata": {},
   "outputs": [
    {
     "data": {
      "text/plain": [
       "pandas.core.series.Series"
      ]
     },
     "execution_count": 38,
     "metadata": {},
     "output_type": "execute_result"
    }
   ],
   "source": [
    "# DataFrame의 한 열을 가지고온 자료구조와 시리즈는 동일\n",
    "type(df['나이'])\n"
   ]
  },
  {
   "cell_type": "code",
   "execution_count": 34,
   "metadata": {},
   "outputs": [
    {
     "data": {
      "text/plain": [
       "pandas.core.series.Series"
      ]
     },
     "execution_count": 34,
     "metadata": {},
     "output_type": "execute_result"
    }
   ],
   "source": [
    "type(srs)"
   ]
  },
  {
   "cell_type": "code",
   "execution_count": 43,
   "metadata": {},
   "outputs": [
    {
     "data": {
      "text/plain": [
       "홍길동    47\n",
       "전요한    20\n",
       "홍길순    40\n",
       "선영은    18\n",
       "강정택    17\n",
       "dtype: int64"
      ]
     },
     "execution_count": 43,
     "metadata": {},
     "output_type": "execute_result"
    }
   ],
   "source": [
    "srs = pd.Series(data= data,index=['홍길동','전요한','홍길순','선영은','강정택'])\n",
    "srs"
   ]
  },
  {
   "cell_type": "code",
   "execution_count": null,
   "metadata": {},
   "outputs": [],
   "source": []
  }
 ],
 "metadata": {
  "kernelspec": {
   "display_name": "Python 3",
   "language": "python",
   "name": "python3"
  },
  "language_info": {
   "codemirror_mode": {
    "name": "ipython",
    "version": 3
   },
   "file_extension": ".py",
   "mimetype": "text/x-python",
   "name": "python",
   "nbconvert_exporter": "python",
   "pygments_lexer": "ipython3",
   "version": "3.12.2"
  }
 },
 "nbformat": 4,
 "nbformat_minor": 2
}
